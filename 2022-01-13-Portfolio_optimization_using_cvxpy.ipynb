{
 "cells": [
  {
   "cell_type": "markdown",
   "id": "52fcef5a",
   "metadata": {},
   "source": [
    "# \"Portfolio optimization using cvxpy\"\n",
    "> \"Using cvxpy to solve optimization problems\"\n",
    "\n",
    "- toc:true- branch: master\n",
    "- badges: true\n",
    "- comments: true\n",
    "- author: Hamel Husain & Jeremy Howard\n",
    "- categories: [fastpages, jupyter]"
   ]
  },
  {
   "cell_type": "markdown",
   "id": "1abe2470",
   "metadata": {},
   "source": [
    "## 1. Objective\n",
    "\n",
    "Would like to know how much investment should go into each stocks, in order to optimize the portfolio.<br>\n",
    "Here, optimization means\n",
    "- expected return exceeds minimum threshold\n",
    "- minimize the risk of the portfolio return"
   ]
  },
  {
   "cell_type": "markdown",
   "id": "734ad0c4",
   "metadata": {},
   "source": [
    "## 2. Components of optimization\n",
    "\n",
    "### 2.1 Decision variable\n",
    "Matrix `X` refers to a portion of each individual stock\n",
    "$X = \\begin{bmatrix} x_1 \\\\ x_2 \\\\ x_3 \\end{bmatrix}$ <br>\n",
    "Here, the constraint is: $X\\geq0$\n",
    "\n",
    "### 2.2 Constraints\n",
    "- Budget constraint\n",
    "    - $e^Tx = 1.0$ where $e=[1,1,1]$\n",
    "    - In other words, the investment portion of each stock should sum up to 1\n",
    "- Expected return constraint\n",
    "    - We want our expected return of our portfolio to be higher than a certain threshold\n",
    "    - $\\mathbb E\\begin{bmatrix} \\sum_{i=1}^{3}\\tilde{r}_i x_i\\end{bmatrix} = \n",
    "    \\sum_{i=1}^{3} \\mathbb E\\begin{bmatrix}\\tilde{r}_i\\end{bmatrix}x_i = \n",
    "    \\sum_{i=1}^{3} \\bar{r}_i x_i$\n",
    "    - This could be the same this as $\\bar{r}^T X$ which means the sum of multiplication of average return and investment portion\n",
    "    - Thus, $ \\sum_{i=1}^{3} \\bar{r}_i x_i \\geq r_{min}$\n",
    "    - $r_{min}$ would be set based on our judgement\n",
    "    \n",
    "### 2.3 Objective function\n",
    "This is the criteria for choosing the best set of decision.\n",
    "- It is to minimize the variance of the portfolio returns\n",
    "    - $x^TQx$ where $Q$ is a covariance matrix\n",
    "    \n",
    "### 2.4 Assumption\n",
    "It is assumed that the monthly stock returns have a stationary proability distribution. This means that it has a fixed distribution, and this also means that the projections done based on historical data is valid."
   ]
  },
  {
   "cell_type": "markdown",
   "id": "e4d2136e",
   "metadata": {},
   "source": [
    "## 3. Analysis"
   ]
  },
  {
   "cell_type": "code",
   "execution_count": 146,
   "id": "7919e331",
   "metadata": {},
   "outputs": [],
   "source": [
    "import pandas as pd\n",
    "import numpy as np\n",
    "from cvxpy import *\n",
    "import pandas_datareader as pdr"
   ]
  },
  {
   "cell_type": "markdown",
   "id": "6fa3836e",
   "metadata": {},
   "source": [
    "### 3.1 Read ticker data\n",
    "\n",
    "It is easy to read ticker data using `pandas-datareader`"
   ]
  },
  {
   "cell_type": "code",
   "execution_count": 147,
   "id": "c077158b",
   "metadata": {},
   "outputs": [
    {
     "data": {
      "text/html": [
       "<div>\n",
       "<style scoped>\n",
       "    .dataframe tbody tr th:only-of-type {\n",
       "        vertical-align: middle;\n",
       "    }\n",
       "\n",
       "    .dataframe tbody tr th {\n",
       "        vertical-align: top;\n",
       "    }\n",
       "\n",
       "    .dataframe thead tr th {\n",
       "        text-align: left;\n",
       "    }\n",
       "\n",
       "    .dataframe thead tr:last-of-type th {\n",
       "        text-align: right;\n",
       "    }\n",
       "</style>\n",
       "<table border=\"1\" class=\"dataframe\">\n",
       "  <thead>\n",
       "    <tr>\n",
       "      <th>Attributes</th>\n",
       "      <th colspan=\"3\" halign=\"left\">Adj Close</th>\n",
       "      <th colspan=\"3\" halign=\"left\">Close</th>\n",
       "      <th colspan=\"3\" halign=\"left\">High</th>\n",
       "      <th colspan=\"3\" halign=\"left\">Low</th>\n",
       "      <th colspan=\"3\" halign=\"left\">Open</th>\n",
       "      <th colspan=\"3\" halign=\"left\">Volume</th>\n",
       "    </tr>\n",
       "    <tr>\n",
       "      <th>Symbols</th>\n",
       "      <th>MSFT</th>\n",
       "      <th>V</th>\n",
       "      <th>WMT</th>\n",
       "      <th>MSFT</th>\n",
       "      <th>V</th>\n",
       "      <th>WMT</th>\n",
       "      <th>MSFT</th>\n",
       "      <th>V</th>\n",
       "      <th>WMT</th>\n",
       "      <th>MSFT</th>\n",
       "      <th>V</th>\n",
       "      <th>WMT</th>\n",
       "      <th>MSFT</th>\n",
       "      <th>V</th>\n",
       "      <th>WMT</th>\n",
       "      <th>MSFT</th>\n",
       "      <th>V</th>\n",
       "      <th>WMT</th>\n",
       "    </tr>\n",
       "    <tr>\n",
       "      <th>Date</th>\n",
       "      <th></th>\n",
       "      <th></th>\n",
       "      <th></th>\n",
       "      <th></th>\n",
       "      <th></th>\n",
       "      <th></th>\n",
       "      <th></th>\n",
       "      <th></th>\n",
       "      <th></th>\n",
       "      <th></th>\n",
       "      <th></th>\n",
       "      <th></th>\n",
       "      <th></th>\n",
       "      <th></th>\n",
       "      <th></th>\n",
       "      <th></th>\n",
       "      <th></th>\n",
       "      <th></th>\n",
       "    </tr>\n",
       "  </thead>\n",
       "  <tbody>\n",
       "    <tr>\n",
       "      <th>2019-01-02</th>\n",
       "      <td>97.782417</td>\n",
       "      <td>130.463150</td>\n",
       "      <td>88.576424</td>\n",
       "      <td>101.120003</td>\n",
       "      <td>132.919998</td>\n",
       "      <td>93.339996</td>\n",
       "      <td>101.750000</td>\n",
       "      <td>133.740005</td>\n",
       "      <td>93.650002</td>\n",
       "      <td>98.940002</td>\n",
       "      <td>129.600006</td>\n",
       "      <td>91.639999</td>\n",
       "      <td>99.550003</td>\n",
       "      <td>130.000000</td>\n",
       "      <td>91.639999</td>\n",
       "      <td>35329300.0</td>\n",
       "      <td>8788000.0</td>\n",
       "      <td>8152700.0</td>\n",
       "    </tr>\n",
       "    <tr>\n",
       "      <th>2019-01-03</th>\n",
       "      <td>94.185211</td>\n",
       "      <td>125.761711</td>\n",
       "      <td>88.120903</td>\n",
       "      <td>97.400002</td>\n",
       "      <td>128.130005</td>\n",
       "      <td>92.860001</td>\n",
       "      <td>100.190002</td>\n",
       "      <td>131.279999</td>\n",
       "      <td>94.709999</td>\n",
       "      <td>97.199997</td>\n",
       "      <td>127.879997</td>\n",
       "      <td>92.699997</td>\n",
       "      <td>100.099998</td>\n",
       "      <td>131.210007</td>\n",
       "      <td>93.209999</td>\n",
       "      <td>42579100.0</td>\n",
       "      <td>9428300.0</td>\n",
       "      <td>8277300.0</td>\n",
       "    </tr>\n",
       "    <tr>\n",
       "      <th>2019-01-04</th>\n",
       "      <td>98.565704</td>\n",
       "      <td>131.179657</td>\n",
       "      <td>88.671318</td>\n",
       "      <td>101.930000</td>\n",
       "      <td>133.649994</td>\n",
       "      <td>93.440002</td>\n",
       "      <td>102.510002</td>\n",
       "      <td>134.589996</td>\n",
       "      <td>93.660004</td>\n",
       "      <td>98.930000</td>\n",
       "      <td>130.130005</td>\n",
       "      <td>92.690002</td>\n",
       "      <td>99.720001</td>\n",
       "      <td>130.440002</td>\n",
       "      <td>93.209999</td>\n",
       "      <td>44060600.0</td>\n",
       "      <td>11065800.0</td>\n",
       "      <td>8029100.0</td>\n",
       "    </tr>\n",
       "  </tbody>\n",
       "</table>\n",
       "</div>"
      ],
      "text/plain": [
       "Attributes  Adj Close                              Close              \\\n",
       "Symbols          MSFT           V        WMT        MSFT           V   \n",
       "Date                                                                   \n",
       "2019-01-02  97.782417  130.463150  88.576424  101.120003  132.919998   \n",
       "2019-01-03  94.185211  125.761711  88.120903   97.400002  128.130005   \n",
       "2019-01-04  98.565704  131.179657  88.671318  101.930000  133.649994   \n",
       "\n",
       "Attributes                   High                               Low  \\\n",
       "Symbols           WMT        MSFT           V        WMT       MSFT   \n",
       "Date                                                                  \n",
       "2019-01-02  93.339996  101.750000  133.740005  93.650002  98.940002   \n",
       "2019-01-03  92.860001  100.190002  131.279999  94.709999  97.199997   \n",
       "2019-01-04  93.440002  102.510002  134.589996  93.660004  98.930000   \n",
       "\n",
       "Attributes                               Open                         \\\n",
       "Symbols              V        WMT        MSFT           V        WMT   \n",
       "Date                                                                   \n",
       "2019-01-02  129.600006  91.639999   99.550003  130.000000  91.639999   \n",
       "2019-01-03  127.879997  92.699997  100.099998  131.210007  93.209999   \n",
       "2019-01-04  130.130005  92.690002   99.720001  130.440002  93.209999   \n",
       "\n",
       "Attributes      Volume                         \n",
       "Symbols           MSFT           V        WMT  \n",
       "Date                                           \n",
       "2019-01-02  35329300.0   8788000.0  8152700.0  \n",
       "2019-01-03  42579100.0   9428300.0  8277300.0  \n",
       "2019-01-04  44060600.0  11065800.0  8029100.0  "
      ]
     },
     "execution_count": 147,
     "metadata": {},
     "output_type": "execute_result"
    }
   ],
   "source": [
    "# Microsoft, Visa, Walmart\n",
    "tickers = ['MSFT', 'V', 'WMT']\n",
    "\n",
    "start_date = '2019-01-02'\n",
    "end_date = '2021-12-31'\n",
    "\n",
    "stock_price = pdr.DataReader(tickers, 'yahoo', start_date, end_date)\n",
    "stock_price.head(3)"
   ]
  },
  {
   "cell_type": "markdown",
   "id": "e9dbc69e",
   "metadata": {},
   "source": [
    "### 3.2 Derive monthly return\n",
    "\n",
    "We'll just take the close price for each ticker. The monthly return will be used for simplicity."
   ]
  },
  {
   "cell_type": "code",
   "execution_count": 148,
   "id": "b8127ca5",
   "metadata": {},
   "outputs": [
    {
     "data": {
      "text/html": [
       "<div>\n",
       "<style scoped>\n",
       "    .dataframe tbody tr th:only-of-type {\n",
       "        vertical-align: middle;\n",
       "    }\n",
       "\n",
       "    .dataframe tbody tr th {\n",
       "        vertical-align: top;\n",
       "    }\n",
       "\n",
       "    .dataframe thead th {\n",
       "        text-align: right;\n",
       "    }\n",
       "</style>\n",
       "<table border=\"1\" class=\"dataframe\">\n",
       "  <thead>\n",
       "    <tr style=\"text-align: right;\">\n",
       "      <th></th>\n",
       "      <th>Date</th>\n",
       "      <th>MSFT</th>\n",
       "      <th>V</th>\n",
       "      <th>WMT</th>\n",
       "    </tr>\n",
       "  </thead>\n",
       "  <tbody>\n",
       "    <tr>\n",
       "      <th>0</th>\n",
       "      <td>2019-01-02</td>\n",
       "      <td>101.120003</td>\n",
       "      <td>132.919998</td>\n",
       "      <td>93.339996</td>\n",
       "    </tr>\n",
       "    <tr>\n",
       "      <th>1</th>\n",
       "      <td>2019-01-03</td>\n",
       "      <td>97.400002</td>\n",
       "      <td>128.130005</td>\n",
       "      <td>92.860001</td>\n",
       "    </tr>\n",
       "    <tr>\n",
       "      <th>2</th>\n",
       "      <td>2019-01-04</td>\n",
       "      <td>101.930000</td>\n",
       "      <td>133.649994</td>\n",
       "      <td>93.440002</td>\n",
       "    </tr>\n",
       "  </tbody>\n",
       "</table>\n",
       "</div>"
      ],
      "text/plain": [
       "        Date        MSFT           V        WMT\n",
       "0 2019-01-02  101.120003  132.919998  93.339996\n",
       "1 2019-01-03   97.400002  128.130005  92.860001\n",
       "2 2019-01-04  101.930000  133.649994  93.440002"
      ]
     },
     "execution_count": 148,
     "metadata": {},
     "output_type": "execute_result"
    }
   ],
   "source": [
    "# select relevant columns\n",
    "\n",
    "stock_price = stock_price[[(    'Close', 'MSFT'),\n",
    "                            (    'Close',    'V'),\n",
    "                            (    'Close',  'WMT')]]\n",
    "stock_price.columns = ['MSFT', 'V', 'WMT']\n",
    "stock_price.reset_index(inplace=True)\n",
    "\n",
    "stock_price.head(3)"
   ]
  },
  {
   "cell_type": "code",
   "execution_count": 149,
   "id": "3545f255",
   "metadata": {},
   "outputs": [
    {
     "data": {
      "text/html": [
       "<div>\n",
       "<style scoped>\n",
       "    .dataframe tbody tr th:only-of-type {\n",
       "        vertical-align: middle;\n",
       "    }\n",
       "\n",
       "    .dataframe tbody tr th {\n",
       "        vertical-align: top;\n",
       "    }\n",
       "\n",
       "    .dataframe thead th {\n",
       "        text-align: right;\n",
       "    }\n",
       "</style>\n",
       "<table border=\"1\" class=\"dataframe\">\n",
       "  <thead>\n",
       "    <tr style=\"text-align: right;\">\n",
       "      <th></th>\n",
       "      <th>MSFT</th>\n",
       "      <th>V</th>\n",
       "      <th>WMT</th>\n",
       "    </tr>\n",
       "  </thead>\n",
       "  <tbody>\n",
       "    <tr>\n",
       "      <th>0</th>\n",
       "      <td>104.135238</td>\n",
       "      <td>136.442381</td>\n",
       "      <td>95.809047</td>\n",
       "    </tr>\n",
       "    <tr>\n",
       "      <th>1</th>\n",
       "      <td>107.927894</td>\n",
       "      <td>143.581579</td>\n",
       "      <td>97.775263</td>\n",
       "    </tr>\n",
       "    <tr>\n",
       "      <th>2</th>\n",
       "      <td>115.133810</td>\n",
       "      <td>152.260954</td>\n",
       "      <td>98.275714</td>\n",
       "    </tr>\n",
       "  </tbody>\n",
       "</table>\n",
       "</div>"
      ],
      "text/plain": [
       "         MSFT           V        WMT\n",
       "0  104.135238  136.442381  95.809047\n",
       "1  107.927894  143.581579  97.775263\n",
       "2  115.133810  152.260954  98.275714"
      ]
     },
     "execution_count": 149,
     "metadata": {},
     "output_type": "execute_result"
    }
   ],
   "source": [
    "# get the average stock price of each month\n",
    "\n",
    "stock_price['year'] = stock_price.Date.dt.year\n",
    "stock_price['month'] = stock_price.Date.dt.month\n",
    "\n",
    "stock_price = stock_price.groupby(['year', 'month']).mean().reset_index(drop=True)\n",
    "\n",
    "stock_price.head(3)"
   ]
  },
  {
   "cell_type": "markdown",
   "id": "cbdd9dee",
   "metadata": {},
   "source": [
    "$$stockReturn = \\frac{price_t-price_{t-1}}{price_{t-1}}$$"
   ]
  },
  {
   "cell_type": "code",
   "execution_count": 150,
   "id": "eec3e074",
   "metadata": {},
   "outputs": [
    {
     "data": {
      "text/html": [
       "<div>\n",
       "<style scoped>\n",
       "    .dataframe tbody tr th:only-of-type {\n",
       "        vertical-align: middle;\n",
       "    }\n",
       "\n",
       "    .dataframe tbody tr th {\n",
       "        vertical-align: top;\n",
       "    }\n",
       "\n",
       "    .dataframe thead th {\n",
       "        text-align: right;\n",
       "    }\n",
       "</style>\n",
       "<table border=\"1\" class=\"dataframe\">\n",
       "  <thead>\n",
       "    <tr style=\"text-align: right;\">\n",
       "      <th></th>\n",
       "      <th>MSFT</th>\n",
       "      <th>V</th>\n",
       "      <th>WMT</th>\n",
       "      <th>MSFT_sft</th>\n",
       "      <th>V_sft</th>\n",
       "      <th>WMT_sft</th>\n",
       "    </tr>\n",
       "  </thead>\n",
       "  <tbody>\n",
       "    <tr>\n",
       "      <th>0</th>\n",
       "      <td>104.135238</td>\n",
       "      <td>136.442381</td>\n",
       "      <td>95.809047</td>\n",
       "      <td>NaN</td>\n",
       "      <td>NaN</td>\n",
       "      <td>NaN</td>\n",
       "    </tr>\n",
       "    <tr>\n",
       "      <th>1</th>\n",
       "      <td>107.927894</td>\n",
       "      <td>143.581579</td>\n",
       "      <td>97.775263</td>\n",
       "      <td>104.135238</td>\n",
       "      <td>136.442381</td>\n",
       "      <td>95.809047</td>\n",
       "    </tr>\n",
       "    <tr>\n",
       "      <th>2</th>\n",
       "      <td>115.133810</td>\n",
       "      <td>152.260954</td>\n",
       "      <td>98.275714</td>\n",
       "      <td>107.927894</td>\n",
       "      <td>143.581579</td>\n",
       "      <td>97.775263</td>\n",
       "    </tr>\n",
       "  </tbody>\n",
       "</table>\n",
       "</div>"
      ],
      "text/plain": [
       "         MSFT           V        WMT    MSFT_sft       V_sft    WMT_sft\n",
       "0  104.135238  136.442381  95.809047         NaN         NaN        NaN\n",
       "1  107.927894  143.581579  97.775263  104.135238  136.442381  95.809047\n",
       "2  115.133810  152.260954  98.275714  107.927894  143.581579  97.775263"
      ]
     },
     "execution_count": 150,
     "metadata": {},
     "output_type": "execute_result"
    }
   ],
   "source": [
    "# create shifted columns. 1 lagged column, to use it for \n",
    "\n",
    "stock_price_shift = stock_price.shift().rename(columns={\"MSFT\":\"MSFT_sft\", \n",
    "                                                        \"V\":\"V_sft\", \n",
    "                                                        \"WMT\":\"WMT_sft\"})\n",
    "stock_price = pd.concat([stock_price, stock_price_shift[['MSFT_sft', 'V_sft', 'WMT_sft']]], axis=1)\n",
    "\n",
    "stock_price.head(3)"
   ]
  },
  {
   "cell_type": "code",
   "execution_count": 151,
   "id": "14ae96cc",
   "metadata": {},
   "outputs": [
    {
     "data": {
      "text/html": [
       "<div>\n",
       "<style scoped>\n",
       "    .dataframe tbody tr th:only-of-type {\n",
       "        vertical-align: middle;\n",
       "    }\n",
       "\n",
       "    .dataframe tbody tr th {\n",
       "        vertical-align: top;\n",
       "    }\n",
       "\n",
       "    .dataframe thead th {\n",
       "        text-align: right;\n",
       "    }\n",
       "</style>\n",
       "<table border=\"1\" class=\"dataframe\">\n",
       "  <thead>\n",
       "    <tr style=\"text-align: right;\">\n",
       "      <th></th>\n",
       "      <th>MSFT</th>\n",
       "      <th>V</th>\n",
       "      <th>WMT</th>\n",
       "    </tr>\n",
       "  </thead>\n",
       "  <tbody>\n",
       "    <tr>\n",
       "      <th>1</th>\n",
       "      <td>0.036420</td>\n",
       "      <td>0.052324</td>\n",
       "      <td>0.020522</td>\n",
       "    </tr>\n",
       "    <tr>\n",
       "      <th>2</th>\n",
       "      <td>0.066766</td>\n",
       "      <td>0.060449</td>\n",
       "      <td>0.005118</td>\n",
       "    </tr>\n",
       "    <tr>\n",
       "      <th>3</th>\n",
       "      <td>0.066540</td>\n",
       "      <td>0.050027</td>\n",
       "      <td>0.026698</td>\n",
       "    </tr>\n",
       "  </tbody>\n",
       "</table>\n",
       "</div>"
      ],
      "text/plain": [
       "       MSFT         V       WMT\n",
       "1  0.036420  0.052324  0.020522\n",
       "2  0.066766  0.060449  0.005118\n",
       "3  0.066540  0.050027  0.026698"
      ]
     },
     "execution_count": 151,
     "metadata": {},
     "output_type": "execute_result"
    }
   ],
   "source": [
    "monthly_returns = pd.DataFrame()\n",
    "\n",
    "for ticker in ['MSFT', 'V', 'WMT']:\n",
    "    returns = (stock_price[ticker] - stock_price[ticker+'_sft']) / stock_price[ticker+'_sft']\n",
    "    monthly_returns = pd.concat([monthly_returns, pd.DataFrame(returns)], axis=1)\n",
    "    \n",
    "# rename the column names\n",
    "monthly_returns.columns = ['MSFT', 'V', 'WMT']\n",
    "# drop first row since it is not used when calculating stock returns\n",
    "monthly_returns.drop(0, axis=0, inplace=True)\n",
    "monthly_returns.head(3)"
   ]
  },
  {
   "cell_type": "markdown",
   "id": "d3cb0c78",
   "metadata": {},
   "source": [
    "## 4. Specify the components for optimization\n",
    "\n",
    "To reiterate, the objective of this analysis is to build a portfolio that has minimum risk. <br>\n",
    "And while there are many ways to represent risk, we will use the variance of the return."
   ]
  },
  {
   "cell_type": "code",
   "execution_count": 80,
   "id": "0e3899d6",
   "metadata": {},
   "outputs": [
    {
     "name": "stdout",
     "output_type": "stream",
     "text": [
      "Average monthly return over the two years.\n"
     ]
    },
    {
     "data": {
      "text/html": [
       "<div>\n",
       "<style scoped>\n",
       "    .dataframe tbody tr th:only-of-type {\n",
       "        vertical-align: middle;\n",
       "    }\n",
       "\n",
       "    .dataframe tbody tr th {\n",
       "        vertical-align: top;\n",
       "    }\n",
       "\n",
       "    .dataframe thead th {\n",
       "        text-align: right;\n",
       "    }\n",
       "</style>\n",
       "<table border=\"1\" class=\"dataframe\">\n",
       "  <thead>\n",
       "    <tr style=\"text-align: right;\">\n",
       "      <th></th>\n",
       "      <th>index</th>\n",
       "      <th>0</th>\n",
       "    </tr>\n",
       "  </thead>\n",
       "  <tbody>\n",
       "    <tr>\n",
       "      <th>0</th>\n",
       "      <td>MSFT</td>\n",
       "      <td>0.034952</td>\n",
       "    </tr>\n",
       "    <tr>\n",
       "      <th>1</th>\n",
       "      <td>V</td>\n",
       "      <td>0.013684</td>\n",
       "    </tr>\n",
       "    <tr>\n",
       "      <th>2</th>\n",
       "      <td>WMT</td>\n",
       "      <td>0.011622</td>\n",
       "    </tr>\n",
       "  </tbody>\n",
       "</table>\n",
       "</div>"
      ],
      "text/plain": [
       "  index         0\n",
       "0  MSFT  0.034952\n",
       "1     V  0.013684\n",
       "2   WMT  0.011622"
      ]
     },
     "execution_count": 80,
     "metadata": {},
     "output_type": "execute_result"
    }
   ],
   "source": [
    "# average return and standard deviation for each ticker\n",
    "print(\"Average monthly return over the two years.\")\n",
    "monthly_returns.mean().reset_index()"
   ]
  },
  {
   "cell_type": "code",
   "execution_count": 83,
   "id": "9eab479b",
   "metadata": {},
   "outputs": [
    {
     "name": "stdout",
     "output_type": "stream",
     "text": [
      "Standard deviation of each stock over two years.\n"
     ]
    },
    {
     "data": {
      "text/html": [
       "<div>\n",
       "<style scoped>\n",
       "    .dataframe tbody tr th:only-of-type {\n",
       "        vertical-align: middle;\n",
       "    }\n",
       "\n",
       "    .dataframe tbody tr th {\n",
       "        vertical-align: top;\n",
       "    }\n",
       "\n",
       "    .dataframe thead th {\n",
       "        text-align: right;\n",
       "    }\n",
       "</style>\n",
       "<table border=\"1\" class=\"dataframe\">\n",
       "  <thead>\n",
       "    <tr style=\"text-align: right;\">\n",
       "      <th></th>\n",
       "      <th>index</th>\n",
       "      <th>0</th>\n",
       "    </tr>\n",
       "  </thead>\n",
       "  <tbody>\n",
       "    <tr>\n",
       "      <th>0</th>\n",
       "      <td>MSFT</td>\n",
       "      <td>0.049329</td>\n",
       "    </tr>\n",
       "    <tr>\n",
       "      <th>1</th>\n",
       "      <td>V</td>\n",
       "      <td>0.048437</td>\n",
       "    </tr>\n",
       "    <tr>\n",
       "      <th>2</th>\n",
       "      <td>WMT</td>\n",
       "      <td>0.035628</td>\n",
       "    </tr>\n",
       "  </tbody>\n",
       "</table>\n",
       "</div>"
      ],
      "text/plain": [
       "  index         0\n",
       "0  MSFT  0.049329\n",
       "1     V  0.048437\n",
       "2   WMT  0.035628"
      ]
     },
     "execution_count": 83,
     "metadata": {},
     "output_type": "execute_result"
    }
   ],
   "source": [
    "# standard deviation of each stock, which represents the risk\n",
    "print(\"Standard deviation of each stock over two years.\")\n",
    "monthly_returns.std().reset_index()"
   ]
  },
  {
   "cell_type": "markdown",
   "id": "d30570da",
   "metadata": {},
   "source": [
    "Now, in order to utilize cvxpy to optimize the current problem, we would have to specify the components we have identified earlier.\n",
    "\n",
    "__Objective__\n",
    "- minimize $x^TQx$ where $Q$ is a covariance matrix (risk)\n",
    "\n",
    "__Constraints__\n",
    "- $X>0$ where X is a portion of budget that goes into each stock\n",
    "- $\\sum X=1$ Investment portion of each stock should sum up to 1\n",
    "- $ \\sum_{i=1}^{3} \\bar{r}_i x_i \\geq r_{min}$\n",
    "\n",
    "For $r_{min}$, lets set it to 2% since Microsoft has the highest monthly average return, and it is 3.5%. <br>\n",
    "Realistically, a portfolio which is a combination of other stocks would have lower average return."
   ]
  },
  {
   "cell_type": "code",
   "execution_count": 134,
   "id": "3c9cc01e",
   "metadata": {},
   "outputs": [],
   "source": [
    "symbols = monthly_returns.columns.to_list()\n",
    "n = len(symbols)\n",
    "x = Variable(n)\n",
    "\n",
    "min_return = 0.02\n",
    "r = monthly_returns.mean().values\n",
    "# potfolio_return = multiply(r.T, x)\n",
    "potfolio_return = r.T @ x\n",
    "\n",
    "# objective is to minimize risk\n",
    "covariance_matrix = np.asmatrix(np.cov(monthly_returns.values.T)) \n",
    "risk = quad_form(x, covariance_matrix)\n",
    "\n",
    "# set the optimization problem\n",
    "prob = Problem(Minimize(risk), \n",
    "               [sum(x) == 1, potfolio_return >= min_return, x >= 0])"
   ]
  },
  {
   "cell_type": "markdown",
   "id": "56973015",
   "metadata": {},
   "source": [
    "## 5. Solve optimization using cvxpy"
   ]
  },
  {
   "cell_type": "code",
   "execution_count": 135,
   "id": "ec2811f5",
   "metadata": {
    "scrolled": true
   },
   "outputs": [
    {
     "data": {
      "text/plain": [
       "0.0009641333660832668"
      ]
     },
     "execution_count": 135,
     "metadata": {},
     "output_type": "execute_result"
    }
   ],
   "source": [
    "# let it solve the problem\n",
    "prob.solve()"
   ]
  },
  {
   "cell_type": "code",
   "execution_count": 145,
   "id": "3ac2a7f8",
   "metadata": {},
   "outputs": [
    {
     "name": "stdout",
     "output_type": "stream",
     "text": [
      "Here is the portion of each stock in order to minimize risk while the return is bigger than 2%.\n",
      "\n",
      "MSFT: 34.33%\n",
      "V: 17.87%\n",
      "WMT: 47.79%\n",
      "\n",
      "The volatility of this portfolio is 3.10505%\n",
      "The return of this portfolio is 2.0%\n"
     ]
    }
   ],
   "source": [
    "print(\"Here is the portion of each stock in order to minimize risk while the return is bigger than 2%.\\n\")\n",
    "for i in range(len(symbols)):\n",
    "    print(\"{}: {:.2f}%\".format(symbols[i], x.value[i]*100))\n",
    "    \n",
    "print()\n",
    "print(\"The volatility of this portfolio is {:.5f}%\".format(risk.value**0.5*100))\n",
    "print(\"The return of this portfolio is {}%\".format(round(potfolio_return.value*100, 0)))"
   ]
  },
  {
   "cell_type": "markdown",
   "id": "f961defd",
   "metadata": {},
   "source": [
    "------"
   ]
  },
  {
   "cell_type": "markdown",
   "id": "3a7e61d8",
   "metadata": {},
   "source": [
    "You can check out for the official example of csvpy for portfolio optimization [here](https://colab.research.google.com/github/cvxgrp/cvx_short_course/blob/master/applications/portfolio_optimization.ipynb)"
   ]
  }
 ],
 "metadata": {
  "kernelspec": {
   "display_name": "Python 3 (ipykernel)",
   "language": "python",
   "name": "python3"
  },
  "language_info": {
   "codemirror_mode": {
    "name": "ipython",
    "version": 3
   },
   "file_extension": ".py",
   "mimetype": "text/x-python",
   "name": "python",
   "nbconvert_exporter": "python",
   "pygments_lexer": "ipython3",
   "version": "3.7.11"
  }
 },
 "nbformat": 4,
 "nbformat_minor": 5
}
