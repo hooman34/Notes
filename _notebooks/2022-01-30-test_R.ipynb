{
 "cells": [
  {
   "cell_type": "markdown",
   "id": "554360b1-04ba-4dce-8421-bab2c3dde39f",
   "metadata": {},
   "source": [
    "# test\n",
    "> Test\n",
    "\n",
    "- toc: true \n",
    "- badges: true\n",
    "- comments: true\n",
    "- author: Gieun Kwak"
   ]
  },
  {
   "cell_type": "code",
   "execution_count": null,
   "id": "d38c2c07-57f4-4e7a-888f-89f5c8eec60e",
   "metadata": {},
   "outputs": [],
   "source": [
    "print(\"test\")"
   ]
  }
 ],
 "metadata": {
  "kernelspec": {
   "display_name": "R",
   "language": "R",
   "name": "ir"
  },
  "language_info": {
   "codemirror_mode": "r",
   "file_extension": ".r",
   "mimetype": "text/x-r-source",
   "name": "R",
   "pygments_lexer": "r",
   "version": "4.1.2"
  }
 },
 "nbformat": 4,
 "nbformat_minor": 5
}
