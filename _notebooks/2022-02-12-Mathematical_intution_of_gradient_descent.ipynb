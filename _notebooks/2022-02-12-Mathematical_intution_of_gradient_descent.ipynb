{
 "cells": [
  {
   "cell_type": "markdown",
   "id": "f1da2488",
   "metadata": {},
   "source": [
    "# Mathematical intuition of gradient descent\n",
    "> Understanding and coding gradient descent from scratch\n",
    "\n",
    "- toc: true \n",
    "- badges: true\n",
    "- comments: true\n",
    "- author: Gieun Kwak\n",
    "- categories: [optimization, gradient descent]"
   ]
  },
  {
   "cell_type": "code",
   "execution_count": 1,
   "id": "e8db1cda",
   "metadata": {},
   "outputs": [],
   "source": [
    "# collapse\n",
    "\n",
    "import matplotlib.pyplot as plt\n",
    "import numpy as np\n",
    "from sympy import *\n",
    "# from IPython.display import set_matplotlib_formats\n",
    "# import matplotlib_inline.backend_inline\n",
    "# matplotlib_inline.backend_inline.set_matplotlib_formats('png')"
   ]
  },
  {
   "cell_type": "markdown",
   "id": "9e54d5a2",
   "metadata": {},
   "source": [
    "### 1. How gradient descent looks like\n",
    "\n",
    "Gradient descent is commonly used in ML and AI. Looking at the image below, we encounter from lectures that the gradient descent is a 'process of finding the most lowest point of the function'. While this is a very concise and accurate explanation of gradient descent, understanding it in a mathematical way would enable a deeper understanding.\n",
    "\n",
    "![](my_icons/03_/gradient-descent-example.png)\n"
   ]
  },
  {
   "cell_type": "markdown",
   "id": "ba124314",
   "metadata": {},
   "source": [
    "<br>\n",
    "<br>\n",
    "<br>\n",
    "<br>"
   ]
  },
  {
   "cell_type": "markdown",
   "id": "5e021dda",
   "metadata": {},
   "source": [
    "### 2. How gradient descent works: simple maths\n",
    "\n",
    "The gradient descent image above goes through a line until it reaches the 'bottom' of the function. This 'bottom' of the function is called 'minimum'. We want to reach the minimum because it will give us the best values for our problem. One of the common use of gradient is when we estimate the parameters of a ML or AI model. We want to find the paramaters that has the smalles loss value (closes to the actual observation).\n",
    "\n",
    "Lets consider a function $y = (x-5)^2$. We want to find the minimum value of this function by following a sequence of steps.\n",
    "1. Start from a certain point\n",
    "2. Move to a new point that gives a better objective value (here, smaller values)\n",
    "3. Repeat step 2"
   ]
  },
  {
   "cell_type": "code",
   "execution_count": 2,
   "id": "89aa2ffe",
   "metadata": {},
   "outputs": [],
   "source": [
    "# collapse\n",
    "\n",
    "# x = np.arange(2, 8, 0.01)\n",
    "# def y(x):\n",
    "#     return (x-5)**2\n",
    "\n",
    "# fig, ax = plt.subplots()\n",
    "# ax.plot(x, y(x))\n",
    "# ax.set_xlabel(\"x\")\n",
    "# ax.set_ylabel(\"y\")\n",
    "# ax.plot([5], y(5), marker='o', color='black')\n",
    "\n",
    "# fig.savefig('my_icons/03_/one.png');"
   ]
  },
  {
   "cell_type": "markdown",
   "id": "8aee5c58",
   "metadata": {},
   "source": [
    "![](my_icons/03_/one.png)"
   ]
  },
  {
   "cell_type": "markdown",
   "id": "0698f089",
   "metadata": {},
   "source": [
    "One thing most explanations exclude is the constraint. Actually, for every optimization problem, there is an objective function and a constraint. The objective function is $y = (x-5)^2$. And the constraint is hidden, which is $x \\in R$, $y \\in R$ ($R$ means real numbers).\n",
    "\n",
    "The optimization problem changes along the constraints, but for now lets say the constraint is $y \\geq (x-5)^2$. This means the set of potential solutions for this problem is all the points above the function line.\n",
    "\n",
    "The process of gradient descent will only happen inside the blue area (points that satisfy the constraints)"
   ]
  },
  {
   "cell_type": "code",
   "execution_count": 3,
   "id": "8138e19f",
   "metadata": {},
   "outputs": [],
   "source": [
    "# collapse\n",
    "\n",
    "# x = np.arange(2, 8, 0.01)\n",
    "# def y(x):\n",
    "#     return (x-5)**2\n",
    "\n",
    "# fig, ax = plt.subplots()\n",
    "# ax.plot(x, y(x))\n",
    "# ax.set_xlabel(\"x\")\n",
    "# ax.set_ylabel(\"y\")\n",
    "\n",
    "# ax.fill_between(x, y(x), 9, color='blue', alpha=.1)\n",
    "# ax.plot([5], y(5), marker='o', color='black')\n",
    "\n",
    "# fig.savefig('my_icons/03_/two.png')\n"
   ]
  },
  {
   "cell_type": "markdown",
   "id": "7e1ad029",
   "metadata": {},
   "source": [
    "![](my_icons/03_/two.png)"
   ]
  },
  {
   "cell_type": "markdown",
   "id": "17359f80",
   "metadata": {},
   "source": [
    "Now lets say we start at a point where $x=7$ and $y=4$"
   ]
  },
  {
   "cell_type": "code",
   "execution_count": 4,
   "id": "b45075e2",
   "metadata": {},
   "outputs": [],
   "source": [
    "# collapse\n",
    "\n",
    "# x = np.arange(2, 8, 0.01)\n",
    "# def y(x):\n",
    "#     return (x-5)**2\n",
    "\n",
    "# fig, ax = plt.subplots()\n",
    "# ax.plot(x, y(x))\n",
    "# ax.set_xlabel(\"x\")\n",
    "# ax.set_ylabel(\"y\")\n",
    "# ax.fill_between(x, y(x), 9, color='blue', alpha=.1)\n",
    "\n",
    "# ax.plot([7], y(7), marker='o', color='red')\n",
    "# ax.plot([5], y(5), marker='o', color='black')\n",
    "\n",
    "# fig.savefig('my_icons/03_/three.png')"
   ]
  },
  {
   "cell_type": "markdown",
   "id": "2db11c42",
   "metadata": {},
   "source": [
    "![](my_icons/03_/three.png)"
   ]
  },
  {
   "cell_type": "markdown",
   "id": "7000f2b7",
   "metadata": {},
   "source": [
    "This red dot can go anywhere as long as it is in the blue area. Lets say this dot moves to $(6,6)$. This point is still in the blue area and satisfies the constraint we have set. This is called feasibility.\n",
    "\n",
    "- __The process of gradient descent ONLY considers the solutions that are feasible (satisfies constraints)__"
   ]
  },
  {
   "cell_type": "code",
   "execution_count": 5,
   "id": "dc894041",
   "metadata": {},
   "outputs": [],
   "source": [
    "# collapse\n",
    "\n",
    "# x = np.arange(2, 8, 0.01)\n",
    "# def y(x):\n",
    "#     return (x-5)**2\n",
    "\n",
    "# fig, ax = plt.subplots()\n",
    "# ax.plot(x, y(x))\n",
    "# ax.set_xlabel(\"x\")\n",
    "# ax.set_ylabel(\"y\")\n",
    "# ax.fill_between(x, y(x), 9, color='blue', alpha=.1)\n",
    "\n",
    "# ax.plot([7], y(7), marker='o', color='red')\n",
    "# ax.plot([6], 6, marker='o', color='green')\n",
    "# ax.plot([6], 2, marker='o', color='blue')\n",
    "# ax.plot([5], y(5), marker='o', color='black')\n",
    "\n",
    "# ax.arrow(7, y(7), 6-7+0.1, 2-y(7)+0.1, head_width=0.1, head_length=0.1);\n",
    "\n",
    "# fig.savefig('my_icons/03_/four.png')"
   ]
  },
  {
   "cell_type": "markdown",
   "id": "8cd004f9",
   "metadata": {},
   "source": [
    "![](my_icons/03_/four.png)"
   ]
  },
  {
   "cell_type": "markdown",
   "id": "e4b6712a",
   "metadata": {},
   "source": [
    "While the point $(6,6)$ is feasible, does it go to the optimal value? The optimal value we want to find is the smallest point of $y=(x-5)^2$.\n",
    "\n",
    "Y value when x=7 : 4 <br>\n",
    "Y value when x=6 : 6\n",
    "\n",
    "The value of the function rather increased, and it means that this is not the right direction.\n",
    "\n",
    "If the red dot goes to the direction of blue dot, the objective function decreases. This then would be the right direction we want to go. And the 'amount' we want to move is the learning rate($\\lambda$) which is a small step towards the direction.\n",
    "\n",
    "- __The solution for each step is updated by $x^1 = x^0 + \\lambda d^0$, and the direction is where the optimal value gets closer to the global minimum.__"
   ]
  },
  {
   "cell_type": "markdown",
   "id": "447e6d1c",
   "metadata": {},
   "source": [
    "<br>\n",
    "<br>\n",
    "<br>\n",
    "<br>"
   ]
  },
  {
   "cell_type": "markdown",
   "id": "6af68090",
   "metadata": {},
   "source": [
    "### 3. How is gradient calculated?\n",
    "\n",
    "There are two aspects in calculating gradient. First is the 'direction', and the second is the 'distance'. <br> Lets say $d$ is for firection and $\\alpha$ for step size ('distance'). Then this could be formulated as the following: $f(x^k + \\alpha d^k) < f(x^k)$, which means the new value is smaller than the current function value. <br>\n",
    "Using Taylor's expanson, it could be formulated as $f(x^k + \\alpha d^k) \\approx f(x^k) + \\alpha\\nabla f(x^k)^T d_k$ <br>\n",
    "Since $f(x^k + \\alpha d^k) < f(x^k)$, we want $\\alpha\\nabla f(x^k)^T d_k$ to be smaller than zero. The steepest direction $d_k$ would be $-\\nabla f(x^k)$ since it is the opposite direction from $\\nabla f(x^k)^T$\n",
    "\n",
    "Then, the new point is updated every step by $x^{k+1} \\leftarrow x_k - \\alpha \\nabla f(x_k)$\n",
    "\n",
    "This process will continue until $||\\nabla f(x_k)|| \\leq \\epsilon$ where $\\epsilon$ is a very small number. This is the point where the gradient is small enough or vanishes. This means that there is no more 'movement'."
   ]
  },
  {
   "cell_type": "code",
   "execution_count": 6,
   "id": "ea9a7244",
   "metadata": {},
   "outputs": [],
   "source": [
    "# collapse\n",
    "\n",
    "# x = np.arange(2, 8, 0.01)\n",
    "# def y(x):\n",
    "#     return (x-5)**2\n",
    "\n",
    "# fig, ax = plt.subplots()\n",
    "# ax.plot(x, y(x))\n",
    "# ax.set_xlabel(\"x\")\n",
    "# ax.set_ylabel(\"y\")\n",
    "# ax.fill_between(x, y(x), 9, color='blue', alpha=.1)\n",
    "\n",
    "# ax.plot([7], y(7), marker='o', color='red')\n",
    "# ax.plot([5], y(5), marker='o', color='black')\n",
    "\n",
    "# def line1(x):\n",
    "#     return 4*x - 24\n",
    "# def line2(x):\n",
    "#     return x*0\n",
    "\n",
    "# ax.plot(np.arange(6, 8, 0.01), line1(np.arange(6, 8, 0.01)), color='red')\n",
    "# ax.plot(x, line2(x), color='black');\n",
    "# fig.savefig('my_icons/03_/five.png')"
   ]
  },
  {
   "cell_type": "markdown",
   "id": "0e5971a7",
   "metadata": {},
   "source": [
    "![](my_icons/03_/five.png)"
   ]
  },
  {
   "cell_type": "markdown",
   "id": "d0dc1bc0",
   "metadata": {},
   "source": [
    "The red dot has a negative gradient, and it moves the point towards left. If the point reaches the black dot, the gradient is zero (vanishes), meaning there is no further direction for the point to move, indicating the end of the search."
   ]
  },
  {
   "cell_type": "markdown",
   "id": "347103f8",
   "metadata": {},
   "source": [
    "<br>\n",
    "<br>\n",
    "<br>\n",
    "<br>"
   ]
  },
  {
   "cell_type": "markdown",
   "id": "eda88fb0",
   "metadata": {},
   "source": [
    "### 4. Newton's method from scratch\n",
    "\n",
    "One of the methods of gradient descent is Newton's method.\n",
    "\n",
    "Let $x^k$ be the current state and consider a second order Taylor approximation of $f(x)$. <br>\n",
    "$g(x) = f(x^k)+\\nabla f(x^k)^T (x-x^k) + \\frac{1}{2}(x-x^k)\\nabla^2f(x^k)(x-x^k)$\n",
    "\n",
    "The next step would be to find the point that minimizes the function $g(x)$. That point would be where the first derivative equals to zero.\n",
    "$\\nabla g(x) = \\nabla f(x^k)+\\nabla^2f(x^k)(x-x^k) = 0$\n",
    "\n",
    "Solving this equation for $x$, this gives us <br>\n",
    "$x = x^k - [\\nabla^2f(x_k)]^{-1} \\nabla f(x^k)$ which will be the new $x^{k+1}$"
   ]
  },
  {
   "cell_type": "markdown",
   "id": "32d68669",
   "metadata": {},
   "source": [
    "<br>\n",
    "<br>"
   ]
  },
  {
   "cell_type": "markdown",
   "id": "3ddb3558",
   "metadata": {},
   "source": [
    "To formulate this into the code, here is the psuedo code.\n",
    "\n",
    "![](my_icons/03_/newtons_method.png)"
   ]
  },
  {
   "cell_type": "markdown",
   "id": "13eb8601",
   "metadata": {},
   "source": [
    "#### Parameters\n",
    "\n",
    "- $k$ is the indicator for current step \n",
    "- $\\epsilon$ is the minimum value for stopping the search\n",
    "- $\\alpha$ is the step size. $\\alpha$ changes via line search. This means that we want to find a step size that actually leads to minimizing the function value\n",
    "- $\\rho$ and $c$ are scalars used to derive $\\alpha$ during line search. They are between 0 and 1\n",
    "\n",
    "#### Code walkthrough\n",
    "\n",
    "- Set the initial values for $\\alpha$, $d$, $k$. Initial starting point $x^0$ will be provided via input\n",
    "- The search ends only if the first derivative of $f(x)$ is smaller than $\\epsilon$. Here, it is actually the norm value of the vector.\n",
    "- Inside the search, first determine perform line search to find $\\alpha$\n",
    "    - If $\\alpha$ is found, update $x^{k+1}$ as well as $d^{k+1}$\n",
    "- Continue until vanishing gradient or when it is small enough"
   ]
  },
  {
   "cell_type": "markdown",
   "id": "81e5e2ec",
   "metadata": {},
   "source": [
    "#### Coding - from scratch\n",
    "\n",
    "Lets solve the optimzal minimum value for the following function.\n",
    "$$y = 100(x_2-x_1^2)^2 + (1-x_1)^2$$"
   ]
  },
  {
   "cell_type": "code",
   "execution_count": 7,
   "id": "0573923e",
   "metadata": {},
   "outputs": [],
   "source": [
    "#collapse\n",
    "\n",
    "def plot_contour_2d(X1, X2, y):\n",
    "    fig, ax = plt.subplots(figsize=(12,7))\n",
    "\n",
    "    c_plot = ax.contour(X1, X2, y)\n",
    "    ax.clabel(c_plot, inline=True, \n",
    "              fontsize=10);\n",
    "    ax.set_title('2D contour plot');\n",
    "    \n",
    "def plot_contour_3d(X1, X2, y, save_dir):\n",
    "    fig = plt.figure(figsize=(12,7))\n",
    "    ax = plt.axes(projection='3d')\n",
    "    ax.contour3D(X1, X2, y, 50, cmap='binary')\n",
    "    ax.set_xlabel(\"x1\")\n",
    "    ax.set_ylabel(\"x2\")\n",
    "    ax.set_zlabel(\"y\")\n",
    "    ax.set_title('3D contour plot');"
   ]
  },
  {
   "cell_type": "code",
   "execution_count": 8,
   "id": "61ba45c8",
   "metadata": {},
   "outputs": [],
   "source": [
    "# collapse\n",
    "\n",
    "# X1 = np.arange(-50, 50, 0.1)\n",
    "# X2 = np.arange(-50, 20, 0.1)\n",
    "# X1, X2 = np.meshgrid(X1, X2)\n",
    "# y = 100 * (X2 - X1**2)**2 + (1-X1)**2\n",
    "\n",
    "# plot_contour_3d(X1, X2, y, 'my_icons/03_/3D_contour.png')"
   ]
  },
  {
   "cell_type": "markdown",
   "id": "5b7a913b",
   "metadata": {},
   "source": [
    "![](my_icons/03_/3D_contour.png)"
   ]
  },
  {
   "cell_type": "code",
   "execution_count": 9,
   "id": "06db3714",
   "metadata": {},
   "outputs": [],
   "source": [
    "# collapse\n",
    "\n",
    "# define x and y\n",
    "x1 = Symbol('x1')\n",
    "x2 = Symbol('x2')\n",
    "y = 100 * (x2 - x1**2)**2 + (1-x1)**2"
   ]
  },
  {
   "cell_type": "code",
   "execution_count": 10,
   "id": "20dec34a",
   "metadata": {},
   "outputs": [
    {
     "name": "stdout",
     "output_type": "stream",
     "text": [
      "Function Y\n"
     ]
    },
    {
     "data": {
      "text/latex": [
       "$\\displaystyle \\left(1 - x_{1}\\right)^{2} + 100 \\left(- x_{1}^{2} + x_{2}\\right)^{2}$"
      ],
      "text/plain": [
       "(1 - x1)**2 + 100*(-x1**2 + x2)**2"
      ]
     },
     "execution_count": 10,
     "metadata": {},
     "output_type": "execute_result"
    }
   ],
   "source": [
    "# collapse\n",
    "\n",
    "print(\"Function Y\")\n",
    "y"
   ]
  },
  {
   "cell_type": "code",
   "execution_count": 11,
   "id": "b28de80f",
   "metadata": {},
   "outputs": [],
   "source": [
    "# collapse\n",
    "\n",
    "# in order for the function to be calculated with x input, it has to be 'lambdafied'\n",
    "# for more information, see the package sympy\n",
    "# it allows for place holders for the function, making it easy for us to read and understand\n",
    "\n",
    "def f(x1_value, x2_value, x1=x1, x2=x2, function=y):\n",
    "    \"\"\"\n",
    "    Input the values for x1 and x2, to the function\n",
    "    \"\"\"\n",
    "    working_function = lambdify((x1,x2), function, 'numpy')\n",
    "    return working_function(x1_value, x2_value)\n",
    "\n",
    "def hessian_matrix(x1_value, x2_value, x1, x2, y):\n",
    "    \"\"\"\n",
    "    Calculates the hessian matrix for 2 variable function.\n",
    "    \"\"\"\n",
    "    matrix = np.zeros((2,2))\n",
    "    for i, der1 in enumerate([x1,x2]):\n",
    "        for j, der2 in enumerate([x1,x2]):\n",
    "            matrix[i,j] = f(x1_value, x2_value, x1, x2, y.diff(der1).diff(der2))\n",
    "    return matrix\n",
    "\n",
    "def first_order_matrix(x1_value, x2_value, x1, x2, y):\n",
    "    matrix = np.zeros((2,1))\n",
    "    for i, der in enumerate([x1,x2]):\n",
    "        matrix[i] = f(x1_value, x2_value, x1, x2, y.diff(der))\n",
    "    return matrix"
   ]
  },
  {
   "cell_type": "code",
   "execution_count": 12,
   "id": "cb2ea4e5",
   "metadata": {},
   "outputs": [
    {
     "name": "stdout",
     "output_type": "stream",
     "text": [
      "Partial derivative x1\n"
     ]
    },
    {
     "data": {
      "text/latex": [
       "$\\displaystyle - 400 x_{1} \\left(- x_{1}^{2} + x_{2}\\right) + 2 x_{1} - 2$"
      ],
      "text/plain": [
       "-400*x1*(-x1**2 + x2) + 2*x1 - 2"
      ]
     },
     "execution_count": 12,
     "metadata": {},
     "output_type": "execute_result"
    }
   ],
   "source": [
    "# collapse\n",
    "\n",
    "print(\"Partial derivative x1\")\n",
    "y.diff(x1)"
   ]
  },
  {
   "cell_type": "code",
   "execution_count": 13,
   "id": "e09aeaa7",
   "metadata": {},
   "outputs": [
    {
     "name": "stdout",
     "output_type": "stream",
     "text": [
      "Partial derivative x2\n"
     ]
    },
    {
     "data": {
      "text/latex": [
       "$\\displaystyle - 200 x_{1}^{2} + 200 x_{2}$"
      ],
      "text/plain": [
       "-200*x1**2 + 200*x2"
      ]
     },
     "execution_count": 13,
     "metadata": {},
     "output_type": "execute_result"
    }
   ],
   "source": [
    "# collapse\n",
    "\n",
    "print(\"Partial derivative x2\")\n",
    "y.diff(x2)"
   ]
  },
  {
   "cell_type": "code",
   "execution_count": 14,
   "id": "da475047",
   "metadata": {},
   "outputs": [
    {
     "name": "stdout",
     "output_type": "stream",
     "text": [
      "Partial derivative x1, x2\n"
     ]
    },
    {
     "data": {
      "text/latex": [
       "$\\displaystyle - 400 x_{1}$"
      ],
      "text/plain": [
       "-400*x1"
      ]
     },
     "execution_count": 14,
     "metadata": {},
     "output_type": "execute_result"
    }
   ],
   "source": [
    "# collapse\n",
    "\n",
    "print(\"Partial derivative x1, x2\")\n",
    "y.diff(x1).diff(x2)"
   ]
  },
  {
   "cell_type": "code",
   "execution_count": 15,
   "id": "1682892e",
   "metadata": {},
   "outputs": [
    {
     "name": "stdout",
     "output_type": "stream",
     "text": [
      "Partial derivative x2, x1\n"
     ]
    },
    {
     "data": {
      "text/latex": [
       "$\\displaystyle - 400 x_{1}$"
      ],
      "text/plain": [
       "-400*x1"
      ]
     },
     "execution_count": 15,
     "metadata": {},
     "output_type": "execute_result"
    }
   ],
   "source": [
    "# collapse\n",
    "\n",
    "print(\"Partial derivative x2, x1\")\n",
    "y.diff(x2).diff(x1)"
   ]
  },
  {
   "cell_type": "markdown",
   "id": "0b16d0b0",
   "metadata": {},
   "source": [
    "Newton's method implemented"
   ]
  },
  {
   "cell_type": "code",
   "execution_count": 16,
   "id": "f1b723f1",
   "metadata": {},
   "outputs": [],
   "source": [
    "def newton_iteration(x, x1, x2, y, verbose=False):\n",
    "    \"\"\"\n",
    "    x: initial value\n",
    "    \"\"\"\n",
    "    # initialization\n",
    "    k = 0\n",
    "    e = 10**(-4)\n",
    "    # calculate hessian matrix and first derivative matrix\n",
    "    hessian_m = hessian_matrix(x[0], x[1], x1, x2, y)\n",
    "    first_order_m = first_order_matrix(x[0], x[1], x1, x2, y)\n",
    "    # use them to calculate the gradient\n",
    "    d = -1 * np.dot(np.linalg.inv(hessian_m), first_order_m)\n",
    "    # calculate the l2 norm of gradient. used as a stopping criteria\n",
    "    gradient_norm = np.linalg.norm(first_order_m)\n",
    "\n",
    "    # initial value for alpha and parameters for line search\n",
    "    alpha = 1\n",
    "    rho = 0.2\n",
    "    c = 0.4\n",
    "        \n",
    "    if verbose:\n",
    "        print(\"Initialized algorithm.\")\n",
    "        print(\"step: {}\\nd: {}\\ngradient: {}\\nthreshold: {}\".format(k, d, gradient_norm, e))\n",
    "        print(\"-\"*40)\n",
    "    \n",
    "    # run until gradient is small enough\n",
    "    while gradient_norm > e:\n",
    "        # perform line search -> find appropriate alpha\n",
    "        while f(x[0]+alpha*d[0], x[1]+alpha*d[1]) > f(x[0], x[1]) + c*alpha*np.dot(first_order_matrix(x[0], x[1], x1, x2, y).T, d):\n",
    "            alpha *= rho\n",
    "        # update x\n",
    "        x = x + alpha*d\n",
    "        # calculate updated hessian and first order matrix\n",
    "        hessian_m = hessian_matrix(x[0], x[1], x1, x2, y)\n",
    "        first_order_m = first_order_matrix(x[0], x[1], x1, x2, y)\n",
    "        # update d\n",
    "        d = -1 * np.dot(np.linalg.inv(hessian_m), first_order_m)\n",
    "        # update norm value of gradient\n",
    "        gradient_norm = np.linalg.norm(first_order_m)\n",
    "        k += 1\n",
    "        function_value = f(x[0], x[1])\n",
    "        \n",
    "        if verbose:\n",
    "            print(\"step: {}\\nalpha: {}\\nx: {}\\nupdated function value: {}\".format(k, alpha, x, function_value[0]))\n",
    "            print(\"d: {}\\ngradient norm: {}\\nthreshold: {}\".format(d, gradient_norm, e))\n",
    "            print()\n",
    "    return x,k"
   ]
  },
  {
   "cell_type": "code",
   "execution_count": 17,
   "id": "05bda4bc",
   "metadata": {},
   "outputs": [
    {
     "name": "stdout",
     "output_type": "stream",
     "text": [
      "Function converged at step 44. \n",
      "x = [[1.00000816]\n",
      " [1.00001616]]\n"
     ]
    }
   ],
   "source": [
    "# collapse\n",
    "\n",
    "x, k = newton_iteration(np.array([[1.1],[1.1]]), x1, x2, y, False)\n",
    "\n",
    "print(\"Function converged at step {}. \\nx = {}\".format(k, x))"
   ]
  },
  {
   "cell_type": "markdown",
   "id": "11d0afbb",
   "metadata": {},
   "source": [
    "If the starting point is $[x1,x2]^T=[1.2, 1.2]^T$, the function converges to $[x1,x2]^T\\approx[1, 1]^T$ at step 44."
   ]
  },
  {
   "cell_type": "code",
   "execution_count": 18,
   "id": "ff5bb014",
   "metadata": {},
   "outputs": [
    {
     "name": "stdout",
     "output_type": "stream",
     "text": [
      "Function converged at step 491. \n",
      "x = [[1.00001367]\n",
      " [1.00002717]]\n"
     ]
    }
   ],
   "source": [
    "# collapse \n",
    "\n",
    "x, k = newton_iteration(np.array([[6],[4]]), x1, x2, y, False)\n",
    "\n",
    "print(\"Function converged at step {}. \\nx = {}\".format(k, x))"
   ]
  },
  {
   "cell_type": "markdown",
   "id": "31d1a0f9",
   "metadata": {},
   "source": [
    "If the starting point is $[6, 4]^T$, it takes more iterations (491 steps), but the $x$ value is similar $[x1,x2]^T\\approx[1, 1]^T$\n",
    "\n",
    "Since the gradient is an iterative process, and optimizing a function get exponentially hard as the function gets complicated, the exact number would differ depending on where the iteration starts. That is also why there are local and global minimuns."
   ]
  },
  {
   "cell_type": "markdown",
   "id": "776fecb6",
   "metadata": {},
   "source": [
    "<br>\n",
    "<br>\n",
    "The gradient descent process is printed out for your reference. You can see the gradient decreasing as the function value decreases, while $x$ converges towards 1"
   ]
  },
  {
   "cell_type": "code",
   "execution_count": 19,
   "id": "c66a872c",
   "metadata": {},
   "outputs": [
    {
     "name": "stdout",
     "output_type": "stream",
     "text": [
      "Initialized algorithm.\n",
      "step: 0\n",
      "d: [[-0.00434783]\n",
      " [ 0.10043478]]\n",
      "gradient: 53.34753977457635\n",
      "threshold: 0.0001\n",
      "----------------------------------------\n",
      "step: 1\n",
      "alpha: 1\n",
      "x: [[1.09565217]\n",
      " [1.20043478]]\n",
      "updated function value: 0.009149374108868819\n",
      "d: [[-0.0952919 ]\n",
      " [-0.20879466]]\n",
      "gradient norm: 0.19962485729758325\n",
      "threshold: 0.0001\n",
      "\n",
      "step: 2\n",
      "alpha: 0.2\n",
      "x: [[1.07659379]\n",
      " [1.15867585]]\n",
      "updated function value: 0.0058809236765559915\n",
      "d: [[-0.07120573]\n",
      " [-0.15294095]]\n",
      "gradient norm: 0.3250473248156841\n",
      "threshold: 0.0001\n",
      "\n",
      "step: 3\n",
      "alpha: 0.2\n",
      "x: [[1.06235265]\n",
      " [1.12808766]]\n",
      "updated function value: 0.003913404243300558\n",
      "d: [[-0.05662774]\n",
      " [-0.11981177]]\n",
      "gradient norm: 0.35423959760700396\n",
      "threshold: 0.0001\n",
      "\n",
      "step: 4\n",
      "alpha: 0.2\n",
      "x: [[1.0510271 ]\n",
      " [1.10412531]]\n",
      "updated function value: 0.0026321371824487164\n",
      "d: [[-0.04611446]\n",
      " [-0.09640244]]\n",
      "gradient norm: 0.3429543838077912\n",
      "threshold: 0.0001\n",
      "\n",
      "step: 5\n",
      "alpha: 0.2\n",
      "x: [[1.04180421]\n",
      " [1.08484482]]\n",
      "updated function value: 0.0017737229394667728\n",
      "d: [[-0.03792668]\n",
      " [-0.07851316]]\n",
      "gradient norm: 0.3137556000113143\n",
      "threshold: 0.0001\n",
      "\n",
      "step: 6\n",
      "alpha: 0.2\n",
      "x: [[1.03421887]\n",
      " [1.06914219]]\n",
      "updated function value: 0.0011926921395593723\n",
      "d: [[-0.03129878]\n",
      " [-0.06427308]]\n",
      "gradient norm: 0.27756728506417017\n",
      "threshold: 0.0001\n",
      "\n",
      "step: 7\n",
      "alpha: 0.2\n",
      "x: [[1.02795912]\n",
      " [1.05628757]]\n",
      "updated function value: 0.000798717397382519\n",
      "d: [[-0.02582888]\n",
      " [-0.0526897 ]]\n",
      "gradient norm: 0.2400900376255633\n",
      "threshold: 0.0001\n",
      "\n",
      "step: 8\n",
      "alpha: 0.2\n",
      "x: [[1.02279334]\n",
      " [1.04574963]]\n",
      "updated function value: 0.0005322515681819315\n",
      "d: [[-0.021276  ]\n",
      " [-0.04316532]]\n",
      "gradient norm: 0.20432202337886463\n",
      "threshold: 0.0001\n",
      "\n",
      "step: 9\n",
      "alpha: 0.2\n",
      "x: [[1.01853814]\n",
      " [1.03711657]]\n",
      "updated function value: 0.0003528662051710774\n",
      "d: [[-0.01747768]\n",
      " [-0.0353    ]]\n",
      "gradient norm: 0.17175012620431226\n",
      "threshold: 0.0001\n",
      "\n",
      "step: 10\n",
      "alpha: 0.2\n",
      "x: [[1.0150426 ]\n",
      " [1.03005657]]\n",
      "updated function value: 0.0002327782263645213\n",
      "d: [[-0.01431288]\n",
      " [-0.02880145]]\n",
      "gradient norm: 0.14298481269502508\n",
      "threshold: 0.0001\n",
      "\n",
      "step: 11\n",
      "alpha: 0.2\n",
      "x: [[1.01218003]\n",
      " [1.02429628]]\n",
      "updated function value: 0.0001528529201920002\n",
      "d: [[-0.01168431]\n",
      " [-0.02344112]]\n",
      "gradient norm: 0.11812679939146666\n",
      "threshold: 0.0001\n",
      "\n",
      "step: 12\n",
      "alpha: 0.2\n",
      "x: [[1.00984316]\n",
      " [1.01960805]]\n",
      "updated function value: 9.995613546068292e-05\n",
      "d: [[-0.00951   ]\n",
      " [-0.01903206]]\n",
      "gradient norm: 0.09698963848128284\n",
      "threshold: 0.0001\n",
      "\n",
      "step: 13\n",
      "alpha: 0.2\n",
      "x: [[1.00794116]\n",
      " [1.01580164]]\n",
      "updated function value: 6.512846188240299e-05\n",
      "d: [[-0.00771924]\n",
      " [-0.01541733]]\n",
      "gradient norm: 0.07923808656277329\n",
      "threshold: 0.0001\n",
      "\n",
      "step: 14\n",
      "alpha: 0.2\n",
      "x: [[1.00639732]\n",
      " [1.01271818]]\n",
      "updated function value: 4.2303526271417644e-05\n",
      "d: [[-0.00625057]\n",
      " [-0.01246374]]\n",
      "gradient norm: 0.06447413557389624\n",
      "threshold: 0.0001\n",
      "\n",
      "step: 15\n",
      "alpha: 0.2\n",
      "x: [[1.0051472 ]\n",
      " [1.01022543]]\n",
      "updated function value: 2.7405114468215976e-05\n",
      "d: [[-0.00505076]\n",
      " [-0.01005805]]\n",
      "gradient norm: 0.05228928155837711\n",
      "threshold: 0.0001\n",
      "\n",
      "step: 16\n",
      "alpha: 0.2\n",
      "x: [[1.00413705]\n",
      " [1.00821382]]\n",
      "updated function value: 1.7714179820000433e-05\n",
      "d: [[-0.00407399]\n",
      " [-0.00810429]]\n",
      "gradient norm: 0.042294696053979584\n",
      "threshold: 0.0001\n",
      "\n",
      "step: 17\n",
      "alpha: 0.2\n",
      "x: [[1.00332225]\n",
      " [1.00659296]]\n",
      "updated function value: 1.1428983950133293e-05\n",
      "d: [[-0.00328118]\n",
      " [-0.00652159]]\n",
      "gradient norm: 0.03413701016380426\n",
      "threshold: 0.0001\n",
      "\n",
      "step: 18\n",
      "alpha: 0.2\n",
      "x: [[1.00266601]\n",
      " [1.00528864]]\n",
      "updated function value: 7.362607422700623e-06\n",
      "d: [[-0.00263936]\n",
      " [-0.0052423 ]]\n",
      "gradient norm: 0.027504938021446976\n",
      "threshold: 0.0001\n",
      "\n",
      "step: 19\n",
      "alpha: 0.2\n",
      "x: [[1.00213814]\n",
      " [1.00424018]]\n",
      "updated function value: 4.737096082738663e-06\n",
      "d: [[-0.00212089]\n",
      " [-0.00421017]]\n",
      "gradient norm: 0.022130294612251602\n",
      "threshold: 0.0001\n",
      "\n",
      "step: 20\n",
      "alpha: 0.2\n",
      "x: [[1.00171396]\n",
      " [1.00339815]]\n",
      "updated function value: 3.0447323568498954e-06\n",
      "d: [[-0.00170282]\n",
      " [-0.00337876]]\n",
      "gradient norm: 0.017785795014394316\n",
      "threshold: 0.0001\n",
      "\n",
      "step: 21\n",
      "alpha: 0.2\n",
      "x: [[1.0013734]\n",
      " [1.0027224]]\n",
      "updated function value: 1.955353864088912e-06\n",
      "d: [[-0.00136622]\n",
      " [-0.00270989]]\n",
      "gradient norm: 0.014281198855098794\n",
      "threshold: 0.0001\n",
      "\n",
      "step: 22\n",
      "alpha: 0.2\n",
      "x: [[1.00110016]\n",
      " [1.00218042]]\n",
      "updated function value: 1.2549004612078538e-06\n",
      "d: [[-0.00109553]\n",
      " [-0.00217237]]\n",
      "gradient norm: 0.011458789044168765\n",
      "threshold: 0.0001\n",
      "\n",
      "step: 23\n",
      "alpha: 0.2\n",
      "x: [[1.00088105]\n",
      " [1.00174594]]\n",
      "updated function value: 8.049277112761418e-07\n",
      "d: [[-0.00087808]\n",
      " [-0.00174077]]\n",
      "gradient norm: 0.009188780777784835\n",
      "threshold: 0.0001\n",
      "\n",
      "step: 24\n",
      "alpha: 0.2\n",
      "x: [[1.00070544]\n",
      " [1.00139779]]\n",
      "updated function value: 5.16076208111751e-07\n",
      "d: [[-0.00070352]\n",
      " [-0.00139446]]\n",
      "gradient norm: 0.00736499520209676\n",
      "threshold: 0.0001\n",
      "\n",
      "step: 25\n",
      "alpha: 0.2\n",
      "x: [[1.00056473]\n",
      " [1.0011189 ]]\n",
      "updated function value: 3.307632542718407e-07\n",
      "d: [[-0.0005635 ]\n",
      " [-0.00111676]]\n",
      "gradient norm: 0.005900963590270291\n",
      "threshold: 0.0001\n",
      "\n",
      "step: 26\n",
      "alpha: 0.2\n",
      "x: [[1.00045203]\n",
      " [1.00089554]]\n",
      "updated function value: 2.119323136229432e-07\n",
      "d: [[-0.00045124]\n",
      " [-0.00089417]]\n",
      "gradient norm: 0.00472652355749282\n",
      "threshold: 0.0001\n",
      "\n",
      "step: 27\n",
      "alpha: 0.2\n",
      "x: [[1.00036178]\n",
      " [1.00071671]]\n",
      "updated function value: 1.3576189126097238e-07\n",
      "d: [[-0.00036128]\n",
      " [-0.00071583]]\n",
      "gradient norm: 0.0037849075285548606\n",
      "threshold: 0.0001\n",
      "\n",
      "step: 28\n",
      "alpha: 0.2\n",
      "x: [[1.00028953]\n",
      " [1.00057354]]\n",
      "updated function value: 8.695187002111232e-08\n",
      "d: [[-0.0002892 ]\n",
      " [-0.00057298]]\n",
      "gradient norm: 0.003030290360051668\n",
      "threshold: 0.0001\n",
      "\n",
      "step: 29\n",
      "alpha: 0.2\n",
      "x: [[1.00023169]\n",
      " [1.00045895]]\n",
      "updated function value: 5.568216012573998e-08\n",
      "d: [[-0.00023148]\n",
      " [-0.00045859]]\n",
      "gradient norm: 0.002425747303054435\n",
      "threshold: 0.0001\n",
      "\n",
      "step: 30\n",
      "alpha: 0.2\n",
      "x: [[1.00018539]\n",
      " [1.00036723]]\n",
      "updated function value: 3.565348531745216e-08\n",
      "d: [[-0.00018526]\n",
      " [-0.000367  ]]\n",
      "gradient norm: 0.001941568396278841\n",
      "threshold: 0.0001\n",
      "\n",
      "step: 31\n",
      "alpha: 0.2\n",
      "x: [[1.00014834]\n",
      " [1.00029383]]\n",
      "updated function value: 2.2826895374249215e-08\n",
      "d: [[-0.00014825]\n",
      " [-0.00029368]]\n",
      "gradient norm: 0.0015538763558939346\n",
      "threshold: 0.0001\n",
      "\n",
      "step: 32\n",
      "alpha: 0.2\n",
      "x: [[1.00011869]\n",
      " [1.00023509]]\n",
      "updated function value: 1.4613653716375122e-08\n",
      "d: [[-0.00011863]\n",
      " [-0.000235  ]]\n",
      "gradient norm: 0.001243499182237761\n",
      "threshold: 0.0001\n",
      "\n",
      "step: 33\n",
      "alpha: 0.2\n",
      "x: [[1.00009496]\n",
      " [1.00018809]]\n",
      "updated function value: 9.355013775390774e-09\n",
      "d: [[-9.49261392e-05]\n",
      " [-1.88033408e-04]]\n",
      "gradient norm: 0.0009950542554677025\n",
      "threshold: 0.0001\n",
      "\n",
      "step: 34\n",
      "alpha: 0.2\n",
      "x: [[1.00007598]\n",
      " [1.00015049]]\n",
      "updated function value: 5.9883745449197485e-09\n",
      "d: [[-7.59534568e-05]\n",
      " [-1.50448575e-04]]\n",
      "gradient norm: 0.0007962066119685916\n",
      "threshold: 0.0001\n",
      "\n",
      "step: 35\n",
      "alpha: 0.2\n",
      "x: [[1.00006079]\n",
      " [1.0001204 ]]\n",
      "updated function value: 3.833156859157997e-09\n",
      "d: [[-6.07707990e-05]\n",
      " [-1.20372852e-04]]\n",
      "gradient norm: 0.000637069775853806\n",
      "threshold: 0.0001\n",
      "\n",
      "step: 36\n",
      "alpha: 0.2\n",
      "x: [[1.00004863]\n",
      " [1.00009632]]\n",
      "updated function value: 2.4535262533249835e-09\n",
      "d: [[-4.86217830e-05]\n",
      " [-9.63072398e-05]]\n",
      "gradient norm: 0.0005097227089664632\n",
      "threshold: 0.0001\n",
      "\n",
      "step: 37\n",
      "alpha: 0.2\n",
      "x: [[1.00003891]\n",
      " [1.00007706]]\n",
      "updated function value: 1.5704134538484076e-09\n",
      "d: [[-3.89007196e-05]\n",
      " [-7.70515274e-05]]\n",
      "gradient norm: 0.0004078209843882173\n",
      "threshold: 0.0001\n",
      "\n",
      "step: 38\n",
      "alpha: 0.2\n",
      "x: [[1.00003113]\n",
      " [1.00006165]]\n",
      "updated function value: 1.0051448367064757e-09\n",
      "d: [[-3.11226839e-05]\n",
      " [-6.16448937e-05]]\n",
      "gradient norm: 0.00032628419496853685\n",
      "threshold: 0.0001\n",
      "\n",
      "step: 39\n",
      "alpha: 0.2\n",
      "x: [[1.0000249 ]\n",
      " [1.00004932]]\n",
      "updated function value: 6.433337797516271e-10\n",
      "d: [[-2.48994967e-05]\n",
      " [-4.93182655e-05]]\n",
      "gradient norm: 0.0002610448991252154\n",
      "threshold: 0.0001\n",
      "\n",
      "step: 40\n",
      "alpha: 0.2\n",
      "x: [[1.00001992]\n",
      " [1.00003946]]\n",
      "updated function value: 4.1175465760644115e-10\n",
      "d: [[-1.99204612e-05]\n",
      " [-3.94561170e-05]]\n",
      "gradient norm: 0.0002088471481323487\n",
      "threshold: 0.0001\n",
      "\n",
      "step: 41\n",
      "alpha: 0.2\n",
      "x: [[1.00001594]\n",
      " [1.00003157]]\n",
      "updated function value: 2.635337540940221e-10\n",
      "d: [[-1.59369220e-05]\n",
      " [-3.15658567e-05]]\n",
      "gradient norm: 0.0001670849055650914\n",
      "threshold: 0.0001\n",
      "\n",
      "step: 42\n",
      "alpha: 0.2\n",
      "x: [[1.00001275]\n",
      " [1.00002525]]\n",
      "updated function value: 1.6866711905022221e-10\n",
      "d: [[-1.27498915e-05]\n",
      " [-2.52533019e-05]]\n",
      "gradient norm: 0.0001336725245054508\n",
      "threshold: 0.0001\n",
      "\n",
      "step: 43\n",
      "alpha: 0.2\n",
      "x: [[1.0000102]\n",
      " [1.0000202]]\n",
      "updated function value: 1.0794978077835293e-10\n",
      "d: [[-1.02001398e-05]\n",
      " [-2.02030360e-05]]\n",
      "gradient norm: 0.00010694096373611484\n",
      "threshold: 0.0001\n",
      "\n",
      "step: 44\n",
      "alpha: 0.2\n",
      "x: [[1.00000816]\n",
      " [1.00001616]]\n",
      "updated function value: 6.908930602668813e-11\n",
      "d: [[-8.16025679e-06]\n",
      " [-1.61626813e-05]]\n",
      "gradient norm: 8.555465541454276e-05\n",
      "threshold: 0.0001\n",
      "\n"
     ]
    }
   ],
   "source": [
    "# collapse\n",
    "\n",
    "x, k = newton_iteration(np.array([[1.1],[1.1]]), x1, x2, y, True)"
   ]
  },
  {
   "cell_type": "markdown",
   "id": "c4e6d367-c1a4-47ab-99a1-9cee327982b5",
   "metadata": {},
   "source": [
    "---\n",
    "END"
   ]
  }
 ],
 "metadata": {
  "kernelspec": {
   "display_name": "Python [conda env:scratch] *",
   "language": "python",
   "name": "conda-env-scratch-py"
  },
  "language_info": {
   "codemirror_mode": {
    "name": "ipython",
    "version": 3
   },
   "file_extension": ".py",
   "mimetype": "text/x-python",
   "name": "python",
   "nbconvert_exporter": "python",
   "pygments_lexer": "ipython3",
   "version": "3.7.7"
  }
 },
 "nbformat": 4,
 "nbformat_minor": 5
}
