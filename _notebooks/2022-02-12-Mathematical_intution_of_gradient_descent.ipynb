{
 "cells": [
  {
   "cell_type": "markdown",
   "id": "f1da2488",
   "metadata": {},
   "source": [
    "# Mathematical intuition of gradient descent\n",
    "> Understanding and coding gradient descent from scratch\n",
    "\n",
    "- toc: true \n",
    "- badges: true\n",
    "- comments: true\n",
    "- author: Gieun Kwak\n",
    "- categories: [optimization, gradient descent]"
   ]
  },
  {
   "cell_type": "code",
   "execution_count": 2,
   "id": "f860a3ca",
   "metadata": {},
   "outputs": [],
   "source": [
    "# collapse\n",
    "\n",
    "import matplotlib.pyplot as plt\n",
    "import numpy as np\n",
    "from sympy import *\n",
    "# from IPython.display import set_matplotlib_formats\n",
    "# import matplotlib_inline.backend_inline\n",
    "# matplotlib_inline.backend_inline.set_matplotlib_formats('png')"
   ]
  },
  {
   "cell_type": "markdown",
   "id": "9c0d2901",
   "metadata": {},
   "source": [
    "### 1. How gradient descent looks like\n",
    "\n",
    "Gradient descent is commonly used in ML and AI. Looking at the image below, we encounter from lectures that the gradient descent is a 'process of finding the most lowest point of the function'. While this is a very concise and accurate explanation of gradient descent, understanding it in a mathematical way would enable a deeper understanding.\n",
    "\n",
    "![](my_icons/03_/gradient-descent-example.png)\n"
   ]
  },
  {
   "cell_type": "markdown",
   "id": "1c9157a8",
   "metadata": {},
   "source": [
    "### 2. How gradient descent works: simple maths\n",
    "\n",
    "The gradient descent image above goes through a line until it reaches the 'bottom' of the function. This 'bottom' of the function is called 'minimum'. We want to reach the minimum because it will give us the best values for our problem. One of the common use of gradient is when we estimate the parameters of a ML or AI model. We want to find the paramaters that has the smalles loss value (closes to the actual observation).\n",
    "\n",
    "Lets consider a function $y = (x-5)^2$. We want to find the minimum value of this function by following a sequence of steps.\n",
    "1. Start from a certain point\n",
    "2. Move to a new point that gives a better objective value (here, smaller values)\n",
    "3. Repeat step 2"
   ]
  },
  {
   "cell_type": "code",
   "execution_count": 12,
   "id": "25748c06",
   "metadata": {},
   "outputs": [],
   "source": [
    "# collapse\n",
    "\n",
    "# x = np.arange(2, 8, 0.01)\n",
    "# def y(x):\n",
    "#     return (x-5)**2\n",
    "\n",
    "# fig, ax = plt.subplots()\n",
    "# ax.plot(x, y(x))\n",
    "# ax.set_xlabel(\"x\")\n",
    "# ax.set_ylabel(\"y\")\n",
    "# ax.plot([5], y(5), marker='o', color='black')\n",
    "\n",
    "# fig.savefig('my_icons/03_/one.png');"
   ]
  },
  {
   "cell_type": "markdown",
   "id": "7fb7ed27",
   "metadata": {},
   "source": [
    "![](my_icons/03_/one.png)"
   ]
  },
  {
   "cell_type": "markdown",
   "id": "c3d1cad7",
   "metadata": {},
   "source": [
    "One thing most explanations exclude is the constraint. Actually, for every optimization problem, there is an objective function and a constraint. The objective function is $y = (x-5)^2$. And the constraint is hidden, which is $x \\in R$, $y \\in R$ ($R$ means real numbers).\n",
    "\n",
    "The optimization problem changes along the constraints, but for now lets say the constraint is $y \\geq (x-5)^2$. This means the set of potential solutions for this problem is all the points above the function line.\n",
    "\n",
    "The process of gradient descent will only happen inside the blue area (points that satisfy the constraints)"
   ]
  },
  {
   "cell_type": "code",
   "execution_count": 14,
   "id": "27001c15",
   "metadata": {},
   "outputs": [],
   "source": [
    "# collapse\n",
    "\n",
    "# x = np.arange(2, 8, 0.01)\n",
    "# def y(x):\n",
    "#     return (x-5)**2\n",
    "\n",
    "# fig, ax = plt.subplots()\n",
    "# ax.plot(x, y(x))\n",
    "# ax.set_xlabel(\"x\")\n",
    "# ax.set_ylabel(\"y\")\n",
    "\n",
    "# ax.fill_between(x, y(x), 9, color='blue', alpha=.1)\n",
    "# ax.plot([5], y(5), marker='o', color='black')\n",
    "\n",
    "# fig.savefig('my_icons/03_/two.png')\n"
   ]
  },
  {
   "cell_type": "markdown",
   "id": "020ff39a",
   "metadata": {},
   "source": [
    "![](my_icons/03_/two.png)"
   ]
  },
  {
   "cell_type": "markdown",
   "id": "5eae3f8a",
   "metadata": {},
   "source": [
    "Now lets say we start at a point where $x=7$ and $y=4$"
   ]
  },
  {
   "cell_type": "code",
   "execution_count": 16,
   "id": "2f5243b8",
   "metadata": {},
   "outputs": [],
   "source": [
    "# collapse\n",
    "\n",
    "# x = np.arange(2, 8, 0.01)\n",
    "# def y(x):\n",
    "#     return (x-5)**2\n",
    "\n",
    "# fig, ax = plt.subplots()\n",
    "# ax.plot(x, y(x))\n",
    "# ax.set_xlabel(\"x\")\n",
    "# ax.set_ylabel(\"y\")\n",
    "# ax.fill_between(x, y(x), 9, color='blue', alpha=.1)\n",
    "\n",
    "# ax.plot([7], y(7), marker='o', color='red')\n",
    "# ax.plot([5], y(5), marker='o', color='black')\n",
    "\n",
    "# fig.savefig('my_icons/03_/three.png')"
   ]
  },
  {
   "cell_type": "markdown",
   "id": "7bada870",
   "metadata": {},
   "source": [
    "![](my_icons/03_/three.png)"
   ]
  },
  {
   "cell_type": "markdown",
   "id": "43e1ac99",
   "metadata": {},
   "source": [
    "This red dot can go anywhere as long as it is in the blue area. Lets say this dot moves to $(6,6)$. This point is still in the blue area and satisfies the constraint we have set. This is called feasibility.\n",
    "\n",
    "- __The process of gradient descent ONLY considers the solutions that are feasible (satisfies constraints)__"
   ]
  },
  {
   "cell_type": "code",
   "execution_count": 18,
   "id": "47c4ef24",
   "metadata": {},
   "outputs": [],
   "source": [
    "# collapse\n",
    "\n",
    "# x = np.arange(2, 8, 0.01)\n",
    "# def y(x):\n",
    "#     return (x-5)**2\n",
    "\n",
    "# fig, ax = plt.subplots()\n",
    "# ax.plot(x, y(x))\n",
    "# ax.set_xlabel(\"x\")\n",
    "# ax.set_ylabel(\"y\")\n",
    "# ax.fill_between(x, y(x), 9, color='blue', alpha=.1)\n",
    "\n",
    "# ax.plot([7], y(7), marker='o', color='red')\n",
    "# ax.plot([6], 6, marker='o', color='green')\n",
    "# ax.plot([6], 2, marker='o', color='blue')\n",
    "# ax.plot([5], y(5), marker='o', color='black')\n",
    "\n",
    "# ax.arrow(7, y(7), 6-7+0.1, 2-y(7)+0.1, head_width=0.1, head_length=0.1);\n",
    "\n",
    "# fig.savefig('my_icons/03_/four.png')"
   ]
  },
  {
   "cell_type": "markdown",
   "id": "060c7df0",
   "metadata": {},
   "source": [
    "![](my_icons/03_/four.png)"
   ]
  },
  {
   "cell_type": "markdown",
   "id": "db4e5f6d",
   "metadata": {},
   "source": [
    "While the point $(6,6)$ is feasible, does it go to the optimal value? The optimal value we want to find is the smallest point of $y=(x-5)^2$.\n",
    "\n",
    "Y value when x=7 : 4 <br>\n",
    "Y value when x=6 : 6\n",
    "\n",
    "The value of the function rather increased, and it means that this is not the right direction.\n",
    "\n",
    "If the red dot goes to the direction of blue dot, the objective function decreases. This then would be the right direction we want to go. And the 'amount' we want to move is the learning rate($\\lambda$) which is a small step towards the direction.\n",
    "\n",
    "- __The solution for each step is updated by $x^1 = x^0 + \\lambda d^0$, and the direction is where the optimal value gets closer to the global minimum.__"
   ]
  },
  {
   "cell_type": "markdown",
   "id": "411326f4",
   "metadata": {},
   "source": [
    "The red dot has a negative gradient, and it moves the point towards left. If the point reaches the black dot, the gradient is zero (vanishes), meaning there is no further direction for the point to move, indicating the end of the search."
   ]
  },
  {
   "cell_type": "markdown",
   "id": "46df0055",
   "metadata": {},
   "source": [
    "### 4. Newton's method from scratch\n",
    "\n",
    "One of the methods of gradient descent is Newton's method.\n",
    "\n",
    "Let $x^k$ be the current state and consider a second order Taylor approximation of $f(x)$. <br>\n",
    "$g(x) = f(x^k)+\\nabla f(x^k)^T (x-x^k) + \\frac{1}{2}(x-x^k)\\nabla^2f(x^k)(x-x^k)$\n",
    "\n",
    "The next step would be to find the point that minimizes the function $g(x)$. That point would be where the first derivative equals to zero.\n",
    "$\\nabla g(x) = \\nabla f(x^k)+\\nabla^2f(x^k)(x-x^k) = 0$\n",
    "\n",
    "Solving this equation for $x$, this gives us <br>\n",
    "$x = x^k - [\\nabla^2f(x_k)]^{-1} \\nabla f(x^k)$ which will be the new $x^{k+1}$"
   ]
  },
  {
   "cell_type": "markdown",
   "id": "c4e6d367-c1a4-47ab-99a1-9cee327982b5",
   "metadata": {},
   "source": [
    "---\n",
    "END"
   ]
  }
 ],
 "metadata": {
  "kernelspec": {
   "display_name": "Python [conda env:scratch] *",
   "language": "python",
   "name": "conda-env-scratch-py"
  },
  "language_info": {
   "codemirror_mode": {
    "name": "ipython",
    "version": 3
   },
   "file_extension": ".py",
   "mimetype": "text/x-python",
   "name": "python",
   "nbconvert_exporter": "python",
   "pygments_lexer": "ipython3",
   "version": "3.7.7"
  }
 },
 "nbformat": 4,
 "nbformat_minor": 5
}
