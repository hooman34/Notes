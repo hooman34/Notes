{
 "cells": [
  {
   "cell_type": "markdown",
   "id": "f1da2488",
   "metadata": {},
   "source": [
    "# Mathematical intuition of gradient descent\n",
    "> Understanding and coding gradient descent from scratch\n",
    "\n",
    "- toc: true \n",
    "- badges: true\n",
    "- comments: true\n",
    "- author: Gieun Kwak\n",
    "- categories: [optimization, gradient descent]"
   ]
  },
  {
   "cell_type": "code",
   "execution_count": 2,
   "id": "e0caa3ff",
   "metadata": {},
   "outputs": [],
   "source": [
    "# collapse\n",
    "\n",
    "import matplotlib.pyplot as plt\n",
    "import numpy as np\n",
    "from sympy import *\n",
    "# from IPython.display import set_matplotlib_formats\n",
    "# import matplotlib_inline.backend_inline\n",
    "# matplotlib_inline.backend_inline.set_matplotlib_formats('png')"
   ]
  },
  {
   "cell_type": "markdown",
   "id": "d6289737",
   "metadata": {},
   "source": [
    "### 1. How gradient descent looks like\n",
    "\n",
    "Gradient descent is commonly used in ML and AI. Looking at the image below, we encounter from lectures that the gradient descent is a 'process of finding the most lowest point of the function'. While this is a very concise and accurate explanation of gradient descent, understanding it in a mathematical way would enable a deeper understanding.\n",
    "\n",
    "![](my_icons/03_/gradient-descent-example.png)\n"
   ]
  },
  {
   "cell_type": "markdown",
   "id": "fcfba7b9",
   "metadata": {},
   "source": [
    "### 2. How gradient descent works: simple maths\n",
    "\n",
    "The gradient descent image above goes through a line until it reaches the 'bottom' of the function. This 'bottom' of the function is called 'minimum'. We want to reach the minimum because it will give us the best values for our problem. One of the common use of gradient is when we estimate the parameters of a ML or AI model. We want to find the paramaters that has the smalles loss value (closes to the actual observation).\n",
    "\n",
    "Lets consider a function $y = (x-5)^2$. We want to find the minimum value of this function by following a sequence of steps.\n",
    "1. Start from a certain point\n",
    "2. Move to a new point that gives a better objective value (here, smaller values)\n",
    "3. Repeat step 2"
   ]
  },
  {
   "cell_type": "code",
   "execution_count": 12,
   "id": "00e40265",
   "metadata": {},
   "outputs": [],
   "source": [
    "# collapse\n",
    "\n",
    "# x = np.arange(2, 8, 0.01)\n",
    "# def y(x):\n",
    "#     return (x-5)**2\n",
    "\n",
    "# fig, ax = plt.subplots()\n",
    "# ax.plot(x, y(x))\n",
    "# ax.set_xlabel(\"x\")\n",
    "# ax.set_ylabel(\"y\")\n",
    "# ax.plot([5], y(5), marker='o', color='black')\n",
    "\n",
    "# fig.savefig('my_icons/03_/one.png');"
   ]
  },
  {
   "cell_type": "markdown",
   "id": "25aa1b85",
   "metadata": {},
   "source": [
    "![](my_icons/03_/one.png)"
   ]
  },
  {
   "cell_type": "markdown",
   "id": "8d61ed7b",
   "metadata": {},
   "source": [
    "One thing most explanations exclude is the constraint. Actually, for every optimization problem, there is an objective function and a constraint. The objective function is $y = (x-5)^2$. And the constraint is hidden, which is $x \\in R$, $y \\in R$ ($R$ means real numbers).\n",
    "\n",
    "The optimization problem changes along the constraints, but for now lets say the constraint is $y \\geq (x-5)^2$. This means the set of potential solutions for this problem is all the points above the function line.\n",
    "\n",
    "The process of gradient descent will only happen inside the blue area (points that satisfy the constraints)"
   ]
  },
  {
   "cell_type": "code",
   "execution_count": 14,
   "id": "060daac8",
   "metadata": {},
   "outputs": [],
   "source": [
    "# collapse\n",
    "\n",
    "# x = np.arange(2, 8, 0.01)\n",
    "# def y(x):\n",
    "#     return (x-5)**2\n",
    "\n",
    "# fig, ax = plt.subplots()\n",
    "# ax.plot(x, y(x))\n",
    "# ax.set_xlabel(\"x\")\n",
    "# ax.set_ylabel(\"y\")\n",
    "\n",
    "# ax.fill_between(x, y(x), 9, color='blue', alpha=.1)\n",
    "# ax.plot([5], y(5), marker='o', color='black')\n",
    "\n",
    "# fig.savefig('my_icons/03_/two.png')\n"
   ]
  },
  {
   "cell_type": "markdown",
   "id": "43b43fad",
   "metadata": {},
   "source": [
    "![](my_icons/03_/two.png)"
   ]
  },
  {
   "cell_type": "markdown",
   "id": "4cbb3ab8",
   "metadata": {},
   "source": [
    "Now lets say we start at a point where $x=7$ and $y=4$"
   ]
  },
  {
   "cell_type": "code",
   "execution_count": 16,
   "id": "82149dcb",
   "metadata": {},
   "outputs": [],
   "source": [
    "# collapse\n",
    "\n",
    "# x = np.arange(2, 8, 0.01)\n",
    "# def y(x):\n",
    "#     return (x-5)**2\n",
    "\n",
    "# fig, ax = plt.subplots()\n",
    "# ax.plot(x, y(x))\n",
    "# ax.set_xlabel(\"x\")\n",
    "# ax.set_ylabel(\"y\")\n",
    "# ax.fill_between(x, y(x), 9, color='blue', alpha=.1)\n",
    "\n",
    "# ax.plot([7], y(7), marker='o', color='red')\n",
    "# ax.plot([5], y(5), marker='o', color='black')\n",
    "\n",
    "# fig.savefig('my_icons/03_/three.png')"
   ]
  },
  {
   "cell_type": "markdown",
   "id": "1e455a36",
   "metadata": {},
   "source": [
    "![](my_icons/03_/three.png)"
   ]
  },
  {
   "cell_type": "markdown",
   "id": "bc254829",
   "metadata": {},
   "source": [
    "This red dot can go anywhere as long as it is in the blue area. Lets say this dot moves to $(6,6)$. This point is still in the blue area and satisfies the constraint we have set. This is called feasibility.\n",
    "\n",
    "- __The process of gradient descent ONLY considers the solutions that are feasible (satisfies constraints)__"
   ]
  },
  {
   "cell_type": "code",
   "execution_count": 18,
   "id": "a3351d56",
   "metadata": {},
   "outputs": [],
   "source": [
    "# collapse\n",
    "\n",
    "# x = np.arange(2, 8, 0.01)\n",
    "# def y(x):\n",
    "#     return (x-5)**2\n",
    "\n",
    "# fig, ax = plt.subplots()\n",
    "# ax.plot(x, y(x))\n",
    "# ax.set_xlabel(\"x\")\n",
    "# ax.set_ylabel(\"y\")\n",
    "# ax.fill_between(x, y(x), 9, color='blue', alpha=.1)\n",
    "\n",
    "# ax.plot([7], y(7), marker='o', color='red')\n",
    "# ax.plot([6], 6, marker='o', color='green')\n",
    "# ax.plot([6], 2, marker='o', color='blue')\n",
    "# ax.plot([5], y(5), marker='o', color='black')\n",
    "\n",
    "# ax.arrow(7, y(7), 6-7+0.1, 2-y(7)+0.1, head_width=0.1, head_length=0.1);\n",
    "\n",
    "# fig.savefig('my_icons/03_/four.png')"
   ]
  },
  {
   "cell_type": "markdown",
   "id": "17ab401d",
   "metadata": {},
   "source": [
    "![](my_icons/03_/four.png)"
   ]
  },
  {
   "cell_type": "markdown",
   "id": "7f1e2d2f",
   "metadata": {},
   "source": [
    "While the point $(6,6)$ is feasible, does it go to the optimal value? The optimal value we want to find is the smallest point of $y=(x-5)^2$.\n",
    "\n",
    "Y value when x=7 : 4 <br>\n",
    "Y value when x=6 : 6\n",
    "\n",
    "The value of the function rather increased, and it means that this is not the right direction.\n",
    "\n",
    "If the red dot goes to the direction of blue dot, the objective function decreases. This then would be the right direction we want to go. And the 'amount' we want to move is the learning rate($\\lambda$) which is a small step towards the direction.\n",
    "\n",
    "- __The solution for each step is updated by $x^1 = x^0 + \\lambda d^0$, and the direction is where the optimal value gets closer to the global minimum.__"
   ]
  },
  {
   "cell_type": "markdown",
   "id": "a9f0d747",
   "metadata": {},
   "source": [
    "### 3. How is gradient calculated?\n",
    "\n",
    "There are two aspects in calculating gradient. First is the 'direction', and the second is the 'distance'. <br> Lets say $d$ is for firection and $\\alpha$ for step size ('distance'). Then this could be formulated as the following: $f(x^k + \\alpha d^k) < f(x^k)$, which means the new value is smaller than the current function value. <br>\n",
    "Using Taylor's expanson, it could be formulated as $f(x^k + \\alpha d^k) \\approx f(x^k) + \\alpha\\nabla f(x^k)^T d_k$ <br>\n",
    "Since $f(x^k + \\alpha d^k) < f(x^k)$, we want $\\alpha\\nabla f(x^k)^T d_k$ to be smaller than zero. The steepest direction $d_k$ would be $-\\nabla f(x^k)$ since it is the opposite direction from $\\nabla f(x^k)^T$\n",
    "\n",
    "Then, the new point is updated every step by $x^{k+1} \\leftarrow x_k - \\alpha \\nabla f(x_k)$\n",
    "\n",
    "This process will continue until $||\\nabla f(x_k)|| \\leq \\epsilon$ where $\\epsilon$ is a very small number. This is the point where the gradient is small enough or vanishes. This means that there is no more 'movement'."
   ]
  },
  {
   "cell_type": "code",
   "execution_count": 21,
   "id": "99f58403",
   "metadata": {},
   "outputs": [],
   "source": [
    "# collapse\n",
    "\n",
    "# x = np.arange(2, 8, 0.01)\n",
    "# def y(x):\n",
    "#     return (x-5)**2\n",
    "\n",
    "# fig, ax = plt.subplots()\n",
    "# ax.plot(x, y(x))\n",
    "# ax.set_xlabel(\"x\")\n",
    "# ax.set_ylabel(\"y\")\n",
    "# ax.fill_between(x, y(x), 9, color='blue', alpha=.1)\n",
    "\n",
    "# ax.plot([7], y(7), marker='o', color='red')\n",
    "# ax.plot([5], y(5), marker='o', color='black')\n",
    "\n",
    "# def line1(x):\n",
    "#     return 4*x - 24\n",
    "# def line2(x):\n",
    "#     return x*0\n",
    "\n",
    "# ax.plot(np.arange(6, 8, 0.01), line1(np.arange(6, 8, 0.01)), color='red')\n",
    "# ax.plot(x, line2(x), color='black');\n",
    "# fig.savefig('my_icons/03_/five.png')"
   ]
  },
  {
   "cell_type": "markdown",
   "id": "428c2fc2",
   "metadata": {},
   "source": [
    "![](my_icons/03_/five.png)"
   ]
  },
  {
   "cell_type": "markdown",
   "id": "faaab4c1",
   "metadata": {},
   "source": [
    "The red dot has a negative gradient, and it moves the point towards left. If the point reaches the black dot, the gradient is zero (vanishes), meaning there is no further direction for the point to move, indicating the end of the search."
   ]
  },
  {
   "cell_type": "markdown",
   "id": "73d3f96e",
   "metadata": {},
   "source": [
    "### 4. Newton's method from scratch\n",
    "\n",
    "One of the methods of gradient descent is Newton's method.\n",
    "\n",
    "Let $x^k$ be the current state and consider a second order Taylor approximation of $f(x)$. <br>\n",
    "$g(x) = f(x^k)+\\nabla f(x^k)^T (x-x^k) + \\frac{1}{2}(x-x^k)\\nabla^2f(x^k)(x-x^k)$\n",
    "\n",
    "The next step would be to find the point that minimizes the function $g(x)$. That point would be where the first derivative equals to zero.\n",
    "$\\nabla g(x) = \\nabla f(x^k)+\\nabla^2f(x^k)(x-x^k) = 0$\n",
    "\n",
    "Solving this equation for $x$, this gives us <br>\n",
    "$x = x^k - [\\nabla^2f(x_k)]^{-1} \\nabla f(x^k)$ which will be the new $x^{k+1}$"
   ]
  },
  {
   "cell_type": "markdown",
   "id": "e412b8d5",
   "metadata": {},
   "source": [
    "#### Parameters\n",
    "\n",
    "- $k$ is the indicator for current step \n",
    "- $\\epsilon$ is the minimum value for stopping the search\n",
    "- $\\alpha$ is the step size. $\\alpha$ changes via line search. This means that we want to find a step size that actually leads to minimizing the function value\n",
    "- $\\rho$ and $c$ are scalars used to derive $\\alpha$ during line search. They are between 0 and 1\n",
    "\n",
    "#### Code walkthrough\n",
    "\n",
    "- Set the initial values for $\\alpha$, $d$, $k$. Initial starting point $x^0$ will be provided via input\n",
    "- The search ends only if the first derivative of $f(x)$ is smaller than $\\epsilon$. Here, it is actually the norm value of the vector.\n",
    "- Inside the search, first determine perform line search to find $\\alpha$\n",
    "    - If $\\alpha$ is found, update $x^{k+1}$ as well as $d^{k+1}$\n",
    "- Continue until vanishing gradient or when it is small enough"
   ]
  },
  {
   "cell_type": "markdown",
   "id": "ca8ee64c",
   "metadata": {},
   "source": [
    "#### Coding - from scratch\n",
    "\n",
    "Lets solve the optimzal minimum value for the following function.\n",
    "$$y = 100(x_2-x_1^2)^2 + (1-x_1)^2$$"
   ]
  },
  {
   "cell_type": "code",
   "execution_count": 26,
   "id": "6fb4eb02",
   "metadata": {},
   "outputs": [],
   "source": [
    "#collapse\n",
    "\n",
    "def plot_contour_2d(X1, X2, y):\n",
    "    fig, ax = plt.subplots(figsize=(12,7))\n",
    "\n",
    "    c_plot = ax.contour(X1, X2, y)\n",
    "    ax.clabel(c_plot, inline=True, \n",
    "              fontsize=10);\n",
    "    ax.set_title('2D contour plot');\n",
    "    \n",
    "def plot_contour_3d(X1, X2, y):\n",
    "    fig = plt.figure(figsize=(12,7))\n",
    "    ax = plt.axes(projection='3d')\n",
    "    ax.contour3D(X1, X2, y, 50, cmap='binary')\n",
    "    ax.set_xlabel(\"x1\")\n",
    "    ax.set_ylabel(\"x2\")\n",
    "    ax.set_zlabel(\"y\")\n",
    "    ax.set_title('3D contour plot');"
   ]
  },
  {
   "cell_type": "code",
   "execution_count": null,
   "id": "9763e688",
   "metadata": {},
   "outputs": [],
   "source": []
  },
  {
   "cell_type": "markdown",
   "id": "c4e6d367-c1a4-47ab-99a1-9cee327982b5",
   "metadata": {},
   "source": [
    "---\n",
    "END"
   ]
  }
 ],
 "metadata": {
  "kernelspec": {
   "display_name": "Python [conda env:scratch] *",
   "language": "python",
   "name": "conda-env-scratch-py"
  },
  "language_info": {
   "codemirror_mode": {
    "name": "ipython",
    "version": 3
   },
   "file_extension": ".py",
   "mimetype": "text/x-python",
   "name": "python",
   "nbconvert_exporter": "python",
   "pygments_lexer": "ipython3",
   "version": "3.7.7"
  }
 },
 "nbformat": 4,
 "nbformat_minor": 5
}
