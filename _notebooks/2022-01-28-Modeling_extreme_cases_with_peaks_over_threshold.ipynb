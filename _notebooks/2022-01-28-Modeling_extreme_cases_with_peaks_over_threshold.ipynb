{
 "cells": [
  {
   "cell_type": "markdown",
   "id": "e43eb545",
   "metadata": {},
   "source": [
    "Packages used: <br>`extRemes`, `Rcpp`, `dplyr`\n",
    "\n",
    "Readings: <br>[An introduction to extreme value statistics](http://grotjahn.ucdavis.edu/EWEs/extremes_primer_v9_22_15.pdf),  <br>[An introduction to statistical modeling of extreme values](https://pdfcoffee.com/anintroductiontostatisticalmodelingofextremevalues-pdf-free.html), <br>[극단치이론을 이용한 VaR의 추정과 검증 : 국내 주식시장을 중심으로](https://academic.naver.com/article.naver?doc_id=30889225)"
   ]
  },
  {
   "cell_type": "markdown",
   "id": "a5c8d120",
   "metadata": {},
   "source": [
    "-----"
   ]
  },
  {
   "cell_type": "markdown",
   "id": "219dc16f",
   "metadata": {},
   "source": [
    "## What we want to model\n",
    "\n",
    "&emsp;Lets say you want to model a rainfall that comes every 250 years. Enough rainfall would lead to floods, and would then lead to damages to the shop owners or vehicle owners.<br>\n",
    "&emsp;There are other extreme events besides rainfall. Those could be a stock market crash or any other events that does not happen a lot, but when it does, would have a huge impact."
   ]
  },
  {
   "cell_type": "markdown",
   "id": "b51f771f",
   "metadata": {},
   "source": [
    "## How we can model extreme cases\n",
    "\n",
    "&emsp;Overall, when assessing the value of something, we use a Value At Risk (VAR) methods. There are parametric and non-parametric methods under VAR, and this article focuses on parametric methods.<br>\n",
    "&emsp;\"Parametric\" means it uses parameters. In other words, we want to come out with a parameter so that the model based on those parameters would appropriately represent the data.\n",
    "\n",
    "For modeling extreme cases, we could choose between two methods.\n",
    "1. Block maxima\n",
    "2. Peaks over threshold\n",
    "\n",
    "&emsp;Both methods aim to fit a distribution to extreme cases, which looks like this:\n",
    "<img src=\"my_icons/01_/child_distribution.png\" alt=\"Drawing\" style=\"width: 400px;\"/>\n",
    "\n",
    "&emsp;A normal distribution won't be a good fit since it doesn't take much consideration on the far right or left data points. Thus we cut the tail of the distribution.\n",
    "\n",
    "\n",
    "#### Block maxima\n",
    "&emsp;The block maxima method chooses the maximum value for each time span e.g. year. The data points extracted like this tends to follow a GEV (Generalized Extreme Value) distribution. However, the extimated Value At Risk calculated based on this method tends to be unstable according to the specified time span. <br>\n",
    "&emsp;We will focus on a more stable method; peaks over threshold.\n",
    "\n",
    "<img src=\"my_icons/01_/block_maxima.png\" alt=\"Drawing\" style=\"width: 400px;\"/>"
   ]
  },
  {
   "cell_type": "markdown",
   "id": "b5d4f575",
   "metadata": {},
   "source": [
    "#### Peaks over threshold\n",
    "&emsp;As the name mentiones, this methods sets a threshold and tries to fit a distribution for data points that goes over that threshold.\n",
    "\n",
    "<img src=\"my_icons/01_/peaks_over_threshold.png\" alt=\"Drawing\" style=\"width: 400px;\"/>\n",
    "\n",
    "&emsp;Then it would mean that choosing the right threshold is critical in the process of this method.<br>\n",
    "&emsp;Here are the methods introduced for choosing the appropriate threshold.\n",
    "\n",
    "| Paper | Proposed way of setting the threshold |\n",
    "| --- | --- |\n",
    "| Davison and Smith (1990) / Nefci (2000) | Set it as (standard dev * 1.65) |\n",
    "| Danielsson and de Vires (1997) | Set threshold based on MSE |\n",
    "|Cole S. (2001) | Use mean excess graph and Hill graph |\n",
    "| Massahiro F. and Yasufumi S. (2002) | Value where it divides 4~6% of the total data |\n",
    "| Christoffersen (2003) | Value where it divides 5% of the total data |\n",
    "| Embrechts (2003) | Where the excess mean plot is linear |\n",
    "\n",
    "&emsp;The hard part of modeling extreme values is that there are only a few data points. This makes it hard to determine which part of the tail we should 'cut'. Naturally, it becomes important to find parameters for a distribution that can have stable results with minimal loss."
   ]
  },
  {
   "cell_type": "code",
   "execution_count": null,
   "id": "5e495d42",
   "metadata": {},
   "outputs": [],
   "source": []
  },
  {
   "cell_type": "code",
   "execution_count": null,
   "id": "3d67a908",
   "metadata": {},
   "outputs": [],
   "source": []
  },
  {
   "cell_type": "markdown",
   "id": "e9be2d21",
   "metadata": {},
   "source": [
    "-----"
   ]
  },
  {
   "cell_type": "markdown",
   "id": "49619fca",
   "metadata": {},
   "source": [
    "## 6. Indepth study on GPD modeling with Peak over Threshold method\n",
    "It is essential to understand the technical details in order to set the relevant threshold for modeling. The model result would have big variance according to the threshold due to its nauture of dealing with small sample size.\n",
    "\n",
    "### - 01. Overview\n",
    "Extreme values statistics deals with extreme cases, which happens at the tail of the distribution. Thus, there are two ways to \n",
    "\n",
    "non-stationary model\n",
    "\n",
    "The peak over threshold method is \n",
    "\n",
    "what bout the return period? the relationship between percentile and return period? and the relationship with "
   ]
  },
  {
   "cell_type": "markdown",
   "id": "086333ef",
   "metadata": {},
   "source": [
    "### - 02. GP distribution\n",
    "\n",
    "how the distribution looks like.\n",
    "\n",
    "$$G(y) = 1 - [1 + \\frac{\\xi (y-\\mu)}{\\sigma} ]^{\\frac{- 1}{\\xi}}$$\n",
    "\n",
    "- $\\mu$ is the threshold\n",
    "- $\\sigma$ is the scale parameter\n",
    "- $\\xi$ is the shape parameter\n",
    "\n",
    "Below is the plot where $\\sigma$ changes while $\\xi=0$\n",
    "![](gpd_plot.png \"\")\n",
    "\n",
    "Below is the plot where $\\xi$ changes while $\\sigma=1$\n",
    "![](gpd_plot2.png \"\")\n",
    "If $\\xi<0$, it means that this distribution has an upper bound. If $\\xi=0$, it becomes $1-exp(-\\frac{y}{\\tilde{\\sigma}})$, which is an exponential distribution. It also means that extremes with lesser magnitudes have a higher probability of occurence than would be seen in distributions where $\\xi>0$. In other words, distributions with $\\xi>0$ would be a better fit for rainfalls at the very right end of the distribution."
   ]
  },
  {
   "cell_type": "markdown",
   "id": "cbd85cfe",
   "metadata": {},
   "source": [
    "### - 03. Setting the approapriate threshold\n",
    "\n",
    "Peak over threshold method is very sensitive to the threshold. A small threshold would lead to bias, while a large one could lead to high variance due to small amount of data points.\n",
    "\n",
    "\n",
    "#### Proposed methods out there\n",
    "\n",
    "Here are the methods introduces for choosing the appropriate threshold.\n",
    "\n",
    "| Paper | Proposed way of setting the threshold |\n",
    "| --- | --- |\n",
    "| Davison and Smith (1990) / Nefci (2000) | Set it as (standard dev * 1.65) |\n",
    "| Danielsson and de Vires (1997) | Set threshold based on MSE |\n",
    "|Cole S. (2001) | Use mean excess graph and Hill graph |\n",
    "| Massahiro F. and Yasufumi S. (2002) | Value where it divides 4~6% of the total data |\n",
    "| Christoffersen (2003) | Value where it divides 5% of the total data |\n",
    "| Embrechts (2003) | Where the excess mean plot is linear |"
   ]
  },
  {
   "cell_type": "markdown",
   "id": "5218954b",
   "metadata": {},
   "source": [
    "#### How we will choose the threshold\n",
    "\n",
    "1. The threshold we want should be between 0.5 year return period and 2year return period.\n",
    "    - This threshold is set via expert's judgement.\n",
    "\n",
    "2. Now, to get the specific threshold, we will use the method proposed by Embrechts; finding a threshold where the excess mean plot is linear.\n",
    "    - Start from the mean of the pareto distribution \n",
    "        - $E(y)=\\frac{\\sigma}{1-\\xi}$ where $\\xi<1$\n",
    "    - We hypothesized that the exceedent of $\\mu_{0}$ follows a pareto distribution.\n",
    "        - Then the mean becomes $E(X-\\mu_{0}|X>\\mu_{0})=\\frac{\\sigma_{\\mu_{0}}}{1-\\xi}$\n",
    "    - If the data points above threshold $\\mu$ follows a pareto distribution, it also means that characteristics of pareto distribution should stand all thresholds above $\\mu_0$.\n",
    "        - $E(X-\\mu_{0}|X>\\mu_{0})=\\frac{\\sigma_{\\mu}}{1-\\xi}$ \n",
    "        - = $\\frac{\\sigma_{\\mu_{0}}+\\xi\\mu}{1-\\xi}$\n",
    "    - Thus, we could say that $E(X-\\mu_{0}|X>\\mu_{0})$ is a linear function of $\\mu$. In other words, these estimates are expected to change linearly with $\\mu$ when generalized distribution is appropriate.\n",
    "        - __The appropriate threshold then would be the one where the mean residual life plot is approximately linear in $\\mu$__\n",
    "        - The `mean residual life plot` draws the mean excess for each threshold.\n",
    "\n",
    "3. Come up with multiple thresholds, and the result could be compared."
   ]
  },
  {
   "cell_type": "markdown",
   "id": "15547d24",
   "metadata": {},
   "source": [
    "#### Comparing the results of different thresholds\n",
    "\n",
    "As the threshold changes the distribution of the output, the VaR value driven by the distribution will also change. Thus, it is CRITICAL to choose a threshold where the result distribution is stable in order to have a reliable result.\n",
    "<br><br>\n",
    "The concept here would be to simply run all the possible experiments and choose the best parameters.\n",
    "\n",
    "However, in our case, we do not have a lot of data points, and at the same time, we have a specific target, which is to have a good fitting distribution for the extreme values (perhaps, VaR where the return period is over 250y)\n",
    "\n",
    "We could see the QQ-plot to see if the result follows the result, but it would not be appropriate for multiple experiments.\n"
   ]
  },
  {
   "cell_type": "markdown",
   "id": "565779dd",
   "metadata": {},
   "source": [
    "#### Estimating performance (Back-testing)\n",
    "\n",
    "In order to see if our distribution properly, we would have to compare the returned value from the distribution with the actual data.\n",
    "\n",
    "Here, the VaR would be the max rainfall in the defined quantile. Var can be derived from the \n",
    "\n",
    "\n",
    "If the distribution correctly represents the data, the percentage of the rainfall exceeding VaR should be equal to the percentage of the rainfall exceeding 1-q(quantile) of the actual data.\n",
    "\n",
    "Below is an example of a back-testing result\n",
    "![](back-testing-example.PNG)\n",
    "\n",
    "Left go through the example for quantile 0.999.\n",
    "- Lets say the value for 0.999 quantile of the observational data is $a$. There are 7 observations that goes over $a$.\n",
    "- For GPD distribution where the threshold is 1.7659, lets say the value for 0.999 quantile is $b$. There are 6 observations that goes over $b$\n",
    "- The GP distribution that is closest to the `(1-q) observations` would be the most appropriate one.\n",
    "\n",
    "\\* Calculating VaR\n",
    "To calculate the VaR, we start with the GP distribution and the estimated parameters\n",
    "\n",
    "$\\hat F(x) = 1- rate*[1+\\frac{\\hat \\xi}{\\hat \\sigma}(x-\\mu)]^{-\\frac{1}{\\hat \\xi}}$\n",
    "\n",
    "- $\\mu$ is the threshold\n",
    "- $\\sigma$ is the scale parameter\n",
    "- $\\xi$ is the shape parameter\n",
    "- $rate=\\frac{num\\;data\\;points\\;over\\;threshold}{num\\;data\\;points}$\n",
    "\n",
    "Using the calculation above, the VaR would be:\n",
    "$VaR_{q} = \\mu + \\frac{\\hat \\sigma}{\\hat \\xi}[ \\{ {\\frac{1}{rate}(1-q)} \\}^{-\\xi} -1]$ where $q>F(\\mu)$\n"
   ]
  },
  {
   "cell_type": "markdown",
   "id": "c10cac5b",
   "metadata": {},
   "source": [
    "#### Good to Knows:\n",
    "\n",
    "- The reason of not comparing the return period estimation with the empirical return period is because the way of calculating the return period for empirical data is not yet tested. The calculation would be different from what we have from the GPD. This will be updated once it is tested.\n",
    "- When fitting the distribution, since most of the datapoints are closer to the threshold, some distributions might not be a good representation of the extreme cases.\n",
    "    - ![](not_good_fit.png)"
   ]
  },
  {
   "cell_type": "markdown",
   "id": "209325ff",
   "metadata": {},
   "source": [
    "### - 04. Calculating the retirun period\n",
    "\n",
    "After fitting the distribution we would be able to convert it into a return period.\n",
    "\n",
    "The return period would be the inverse of $[1 + \\frac{\\xi (y-\\mu)}{\\sigma} ]^{\\frac{- 1}{\\xi}}*rate*ndays$, where $rate=\\frac{num\\;data\\;points\\;over\\;threshold}{num\\;data\\;points}$"
   ]
  },
  {
   "cell_type": "markdown",
   "id": "fac22f52",
   "metadata": {},
   "source": [
    "### - 05. Applying the loading factor\n",
    "\n",
    "Once we retrieve the return period and the corresponding rainfall(mm), we could calculate the loading factor.\n",
    "The loading factor would be the percentage between return period from 2c+ simulation and return period from normal simulation.\n",
    "\n",
    "This loading factor would then be multiplied to the return period derived from Amedas for projection."
   ]
  },
  {
   "cell_type": "markdown",
   "id": "dc980261",
   "metadata": {},
   "source": [
    "--------"
   ]
  },
  {
   "cell_type": "markdown",
   "id": "14de4c46",
   "metadata": {},
   "source": [
    "## Appendix"
   ]
  },
  {
   "cell_type": "markdown",
   "id": "3d5c08f5",
   "metadata": {},
   "source": [
    "__The code for creating distribution plots can be replicated using the following code__\n",
    "```r\n",
    "library(extRemes)\n",
    "library(dplyr)\n",
    "library(VGAM)\n",
    "library(ggplot2)\n",
    "\n",
    "x <- seq(-4, 4, length=100)\n",
    "y1 <- dgpd(x)\n",
    "y2 <- dgpd(x, scale=0.5)\n",
    "y3 <- dgpd(x, scale=0.3)\n",
    "\n",
    "y = append(y1, y2)\n",
    "y = append(y, y3)\n",
    "xs = append(x,x)\n",
    "xs = append(xs, x)\n",
    "labels = append(rep_len('scale=1', length(x)), rep_len('scale=0.5', length(x)))\n",
    "labels = append(labels, rep_len('scale=0.3', length(x)))\n",
    "\n",
    "df = data.frame('values'=unlist(y))\n",
    "df['x'] = unlist(xs)\n",
    "df['labels'] = unlist(labels)\n",
    "\n",
    "ggplot(df, aes(x=x, y=values, color=labels))+geom_line()\n",
    "\n",
    "#####################\n",
    "\n",
    "x <- seq(-4, 4, length=100)\n",
    "y1 <- dgpd(x, shape=-0.5)\n",
    "y2 <- dgpd(x, shape=0)\n",
    "y3 <- dgpd(x, shape=0.5)\n",
    "\n",
    "y = append(y1, y2)\n",
    "y = append(y, y3)\n",
    "xs = append(x,x)\n",
    "xs = append(xs, x)\n",
    "labels = append(rep_len('shape=-0.5', length(x)), rep_len('shape=0', length(x)))\n",
    "labels = append(labels, rep_len('shape=0.5', length(x)))\n",
    "\n",
    "df = data.frame('values'=unlist(y))\n",
    "df['x'] = unlist(xs)\n",
    "df['labels'] = unlist(labels)\n",
    "\n",
    "ggplot(df, aes(x=x, y=values, color=labels))+geom_line()\n",
    "\n",
    "```"
   ]
  },
  {
   "cell_type": "code",
   "execution_count": null,
   "id": "a9b0c763",
   "metadata": {},
   "outputs": [],
   "source": []
  },
  {
   "cell_type": "markdown",
   "id": "cdf2b45e",
   "metadata": {},
   "source": [
    "Relationship between probability and return period<br>\n",
    "$rp(z,p) = \\frac{1}{p}$\n",
    "\n",
    "1. Create a vector of return levels fror a specified range of test return periods\n",
    "2. Fina the return level with a corresponding return period that most closely matches the desired return period"
   ]
  },
  {
   "cell_type": "code",
   "execution_count": null,
   "id": "fa264216",
   "metadata": {},
   "outputs": [],
   "source": []
  },
  {
   "cell_type": "code",
   "execution_count": null,
   "id": "4437c5d0",
   "metadata": {},
   "outputs": [],
   "source": []
  },
  {
   "cell_type": "code",
   "execution_count": null,
   "id": "99e6f7e1",
   "metadata": {},
   "outputs": [],
   "source": []
  },
  {
   "cell_type": "code",
   "execution_count": null,
   "id": "fbbfaf2f",
   "metadata": {},
   "outputs": [],
   "source": []
  },
  {
   "cell_type": "code",
   "execution_count": null,
   "id": "1a46994e",
   "metadata": {},
   "outputs": [],
   "source": []
  }
 ],
 "metadata": {
  "kernelspec": {
   "display_name": "R [conda env:scratch] *",
   "language": "R",
   "name": "conda-env-scratch-r"
  },
  "language_info": {
   "codemirror_mode": "r",
   "file_extension": ".r",
   "mimetype": "text/x-r-source",
   "name": "R",
   "pygments_lexer": "r",
   "version": "3.6.1"
  }
 },
 "nbformat": 4,
 "nbformat_minor": 5
}
