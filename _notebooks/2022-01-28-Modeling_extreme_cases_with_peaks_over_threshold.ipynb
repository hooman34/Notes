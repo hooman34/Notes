{
 "cells": [
  {
   "cell_type": "markdown",
   "id": "636f2247",
   "metadata": {},
   "source": [
    "# Modeling extreme cases with peaks over threshold - 1\n",
    "> Overview of extreme statistics\n",
    "\n",
    "- toc: true \n",
    "- badges: true\n",
    "- comments: true\n",
    "- author: Gieun Kwak\n",
    "- categories: [extreme value statistics, peaks over threshold, statistics]"
   ]
  },
  {
   "cell_type": "markdown",
   "id": "e43eb545",
   "metadata": {},
   "source": [
    "Relevant materials: <br>[An introduction to extreme value statistics](http://grotjahn.ucdavis.edu/EWEs/extremes_primer_v9_22_15.pdf)\n",
    "<br>[An introduction to statistical modeling of extreme values](https://pdfcoffee.com/anintroductiontostatisticalmodelingofextremevalues-pdf-free.html)<br>\n",
    "[극단치이론을 이용한 VaR의 추정과 검증 : 국내 주식시장을 중심으로](https://academic.naver.com/article.naver?doc_id=30889225) <br>\n",
    "[FRM: Extreme Value Theory (EVT) - Intro](https://www.youtube.com/watch?v=o-cpu1IH3tM)<br>\n",
    "[FRM: Three approaches to value at risk (VaR)](https://www.youtube.com/watch?v=L2xzlvhkagk)"
   ]
  },
  {
   "cell_type": "markdown",
   "id": "a5c8d120",
   "metadata": {},
   "source": [
    "-----"
   ]
  },
  {
   "cell_type": "markdown",
   "id": "219dc16f",
   "metadata": {},
   "source": [
    "## What we want to model\n",
    "\n",
    "&emsp;Lets say you want to model a rainfall that comes every 250 years. Enough rainfall would lead to floods, and would then lead to damages to the shop owners or vehicle owners.<br>\n",
    "&emsp;There are other extreme events besides rainfall. Those could be a stock market crash or any other events that does not happen a lot, but when it does, would have a huge impact."
   ]
  },
  {
   "cell_type": "markdown",
   "id": "b51f771f",
   "metadata": {},
   "source": [
    "## How we can model extreme cases\n",
    "\n",
    "&emsp;Overall, when assessing the value of something, we use a Value At Risk (VAR) methods. There are parametric and non-parametric methods under VAR, and this article focuses on parametric methods.<br>\n",
    "&emsp;\"Parametric\" means it uses parameters. In other words, we want to come out with a parameter so that the model based on those parameters would appropriately represent the data.\n",
    "\n",
    "For modeling extreme cases, we could choose between two methods.\n",
    "1. Block maxima\n",
    "2. Peaks over threshold\n",
    "\n",
    "&emsp;Both methods aim to fit a distribution to extreme cases, which looks like this:\n",
    "\n",
    "![](my_icons/01_/child_distribution.png)\n",
    "<!-- <img src=\"my_icons/01_/child_distribution.png\" alt=\"Drawing\" style=\"width: 400px;\"/> -->\n",
    "\n",
    "&emsp;A normal distribution won't be a good fit since it doesn't take much consideration on the far right or left data points. Thus we cut the tail of the distribution.\n",
    "\n",
    "\n",
    "#### Block maxima\n",
    "&emsp;The block maxima method chooses the maximum value for each time span e.g. year. The data points extracted like this tends to follow a GEV (Generalized Extreme Value) distribution. However, the extimated Value At Risk calculated based on this method tends to be unstable according to the specified time span. <br>\n",
    "&emsp;We will focus on a more stable method; peaks over threshold.\n",
    "\n",
    "![](my_icons/01_/block_maxima.png)\n",
    "<!-- <img src=\"my_icons/01_/block_maxima.png\" alt=\"Drawing\" style=\"width: 400px;\"/> -->"
   ]
  },
  {
   "cell_type": "markdown",
   "id": "62a01976",
   "metadata": {},
   "source": [
    "#### Peaks over threshold\n",
    "&emsp;As the name mentiones, this methods sets a threshold and tries to fit a distribution for data points that goes over that threshold.\n",
    "\n",
    "![](my_icons/01_/peaks_over_threshold.png)\n",
    "\n",
    "<!-- <img src=\"my_icons/01_/peaks_over_threshold.png\" alt=\"Drawing\" style=\"width: 400px;\"/> -->\n",
    "\n",
    "&emsp;Then it would mean that choosing the right threshold is critical in the process of this method.<br>\n",
    "&emsp;Here are the methods introduced for choosing the appropriate threshold.\n",
    "\n",
    "| Paper | Proposed way of setting the threshold |\n",
    "| --- | --- |\n",
    "| Davison and Smith (1990) / Nefci (2000) | Set it as (standard dev * 1.65) |\n",
    "| Danielsson and de Vires (1997) | Set threshold based on MSE |\n",
    "|Cole S. (2001) | Use mean excess graph and Hill graph |\n",
    "| Massahiro F. and Yasufumi S. (2002) | Value where it divides 4~6% of the total data |\n",
    "| Christoffersen (2003) | Value where it divides 5% of the total data |\n",
    "| Embrechts (2003) | Where the excess mean plot is linear |\n",
    "\n",
    "&emsp;The hard part of modeling extreme values is that there are only a few data points. This makes it hard to determine which part of the tail we should 'cut'. Naturally, it becomes important to find parameters for a distribution that can have stable results with minimal loss."
   ]
  },
  {
   "cell_type": "markdown",
   "id": "d84a58f5",
   "metadata": {},
   "source": [
    "In the next post, we'll look into the mathematical details of peaks overthreshold."
   ]
  },
  {
   "cell_type": "markdown",
   "id": "988d7af3",
   "metadata": {},
   "source": [
    "----"
   ]
  }
 ],
 "metadata": {
  "kernelspec": {
   "display_name": "R [conda env:scratch]",
   "language": "R",
   "name": "conda-env-scratch-r"
  },
  "language_info": {
   "codemirror_mode": "r",
   "file_extension": ".r",
   "mimetype": "text/x-r-source",
   "name": "R",
   "pygments_lexer": "r",
   "version": "3.6.1"
  }
 },
 "nbformat": 4,
 "nbformat_minor": 5
}
